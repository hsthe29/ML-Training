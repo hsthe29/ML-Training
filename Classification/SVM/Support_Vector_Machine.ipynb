{
  "nbformat": 4,
  "nbformat_minor": 0,
  "metadata": {
    "colab": {
      "name": "Support Vector Machine.ipynb",
      "provenance": [],
      "collapsed_sections": []
    },
    "kernelspec": {
      "name": "python3",
      "display_name": "Python 3"
    },
    "language_info": {
      "name": "python"
    }
  },
  "cells": [
    {
      "cell_type": "markdown",
      "source": [
        "# AUTHOR\n",
        "***Written by Ho Sy The***\n",
        "\n",
        "Hanoi University of Science and Technology\n",
        "\n",
        "IT1 04 - K65.\n",
        "\n",
        "*Github: https://github.com/hsthe29*\n",
        "\n",
        "- **date: 2022-04-16**"
      ],
      "metadata": {
        "id": "k-QFQyBe0xG4"
      }
    },
    {
      "cell_type": "markdown",
      "source": [
        "# Summary"
      ],
      "metadata": {
        "id": "FuOabYB201AH"
      }
    },
    {
      "cell_type": "markdown",
      "source": [
        "The distance from point $\\mathbf{x}$ to the hyperplane $\\mathbf{w}^T\\mathbf{x} + b = 0$ is \n",
        "\n",
        "  $~~~~~~~~~~~~~\\frac{|\\mathbf{w}^T\\mathbf{x}_0 + b|}{||\\mathbf{w}||_2}$\n",
        "\n",
        "Margin is the closest distance from a point to that surface (hyperplane) (no matter which point in the two classes):\n",
        "\n",
        "  $~~~~~\\text{margin} = \\min_{n} \\frac{y_n(\\mathbf{w}^T\\mathbf{x}_n + b)}{||\\mathbf{w}||_2}$\n",
        "\n",
        "$⇒$ Optimization Problem: \n",
        "\n",
        "$~~~~(\\mathbf{w}, b) = \\arg\\max_{\\mathbf{w}, b} \\left\\{\n",
        "    \\min_{n} \\frac{y_n(\\mathbf{w}^T\\mathbf{x}_n + b)}{||\\mathbf{w}||_2} \n",
        "\\right\\}\n",
        "= \\arg\\max_{\\mathbf{w}, b}\\left\\{\n",
        "    \\frac{1}{||\\mathbf{w}||_2} \\min_{n} y_n(\\mathbf{w}^T\\mathbf{x}_n + b)\n",
        "\\right\\} ~~~ (1)$\n",
        "\n",
        "Assuming $y_n(\\mathbf{w}^T\\mathbf{x}_n + b) = 1$ with points closest to the hyperplane. Thus, for all $n$, We have: $y_n(\\mathbf{w}^T\\mathbf{x}_n + b) \\geq 1$\n",
        "\n",
        "$(1) ⇔ \\begin{eqnarray}\n",
        "    (\\mathbf{w}, b) &=& \\arg \\max_{\\mathbf{w}, b} \\frac{1}{||\\mathbf{w}||_2}   \\ \n",
        "    \\text{subject to:}~ && y_n(\\mathbf{w}^T\\mathbf{x}_n + b) \\geq 1, \\forall n = 1, 2, \\dots, N ~~~~(2)\n",
        "\\end{eqnarray}$ \n",
        "\n",
        "$⇔\\begin{eqnarray}\n",
        "    (\\mathbf{w}, b) &=& \\arg \\min_{\\mathbf{w}, b} \\frac{1}{2}||\\mathbf{w}||_2^2   \\ \n",
        "    \\text{subject to:}~ && 1 - y_n(\\mathbf{w}^T\\mathbf{x}_n + b) \\leq 0, \\forall n = 1, 2, \\dots, N ~~~~ (3)\n",
        "\\end{eqnarray}$\n",
        "\n",
        "- Use CVXOPT library to solve Quadratic Programming "
      ],
      "metadata": {
        "id": "teTCs2sD03z8"
      }
    },
    {
      "cell_type": "markdown",
      "source": [
        "Find class for a new data point: $\\text{class}(\\mathbf{x}) = \\text{sgn} (\\mathbf{w}^T\\mathbf{x} + b )$"
      ],
      "metadata": {
        "id": "VWSNgqd787yy"
      }
    },
    {
      "cell_type": "code",
      "execution_count": null,
      "metadata": {
        "id": "UM9be886zeKq"
      },
      "outputs": [],
      "source": [
        "import numpy as np\n",
        "import matplotlib.pyplot as plt\n",
        "import time\n",
        "from cvxopt import matrix, solvers\n",
        "from scipy.spatial.distance import cdist"
      ]
    },
    {
      "cell_type": "code",
      "source": [
        "means = [[0, 0], [2, 2]]\n",
        "\n",
        "cov = [[.5, .1],\n",
        "       [.1, .5]]\n",
        "\n",
        "N = 20\n",
        "\n",
        "X0 = np.random.multivariate_normal(means[0], cov, N).T\n",
        "X1 = np.random.multivariate_normal(means[1], cov, N).T\n",
        "\n",
        "X = np.concatenate((X0, X1), axis = 1)\n",
        "y = np.array([[1.] * N + [-1.] * N])"
      ],
      "metadata": {
        "id": "eb-i5EqxR9Rj"
      },
      "execution_count": null,
      "outputs": []
    },
    {
      "cell_type": "code",
      "source": [
        "plt.figure(dpi = 100)\n",
        "\n",
        "plt.plot(X0[0], X0[1], 'ro')\n",
        "plt.plot(X1[0], X1[1], 'bs')\n",
        "\n",
        "plt.show()"
      ],
      "metadata": {
        "colab": {
          "base_uri": "https://localhost:8080/",
          "height": 362
        },
        "id": "wlZCr_EerZul",
        "outputId": "e8d50c72-82c1-492e-999b-72c44afba305"
      },
      "execution_count": null,
      "outputs": [
        {
          "output_type": "display_data",
          "data": {
            "text/plain": [
              "<Figure size 600x400 with 1 Axes>"
            ],
            "image/png": "[encoded data removed]"
          },
          "metadata": {
            "needs_background": "light"
          }
        }
      ]
    },
    {
      "cell_type": "code",
      "source": [
        "V = np.concatenate((X0, -X1), axis = 1)\n",
        "K = matrix(V.T @ V)\n",
        "\n",
        "p = matrix(-np.ones((2*N, 1)))\n",
        "\n",
        "G = matrix(-np.eye(2*N))\n",
        "h = matrix(np.zeros((2*N, 1)))\n",
        "A = matrix(y)\n",
        "b = matrix(np.zeros((1, 1)))\n",
        "\n",
        "solvers.options['show_progress'] = False\n",
        "sol = solvers.qp(K, p, G, h, A, b)"
      ],
      "metadata": {
        "id": "J7F2hXdiuuf8"
      },
      "execution_count": null,
      "outputs": []
    },
    {
      "cell_type": "code",
      "source": [
        "eps = 1e-6\n",
        "\n",
        "l = np.array(sol['x'])\n",
        "\n",
        "index = np.where(l > eps)[0]\n",
        "\n",
        "Vi = V[:, index]\n",
        "Xi = X[:, index]\n",
        "yi = y[:, index]\n",
        "li = l[index]"
      ],
      "metadata": {
        "id": "sKL4iBcIwXk6"
      },
      "execution_count": null,
      "outputs": []
    },
    {
      "cell_type": "code",
      "source": [
        "w = Vi @ li\n",
        "b = np.mean(yi.T - w.T @ Xi)\n",
        "print(w.T)\n",
        "print(b)"
      ],
      "metadata": {
        "colab": {
          "base_uri": "https://localhost:8080/"
        },
        "id": "YSwE0ZyX1IWu",
        "outputId": "c0afe2e5-9b19-4495-ee7a-7c8479fb83e8"
      },
      "execution_count": null,
      "outputs": [
        {
          "output_type": "stream",
          "name": "stdout",
          "text": [
            "[[-5.90792054 -5.44559507]]\n",
            "12.089693236127305\n"
          ]
        }
      ]
    },
    {
      "cell_type": "code",
      "source": [
        "colors = ['r', 'g', 'b', 'c', 'm', 'y', 'k', 'w']\n",
        "descrb = ['s', 'o', '^', 'p', '<', '.', 'x', '*']\n",
        "\n",
        "def visualize(X, y, C, a, b, lv):\n",
        "\n",
        "  plt.figure(figsize=(10, 10))\n",
        "\n",
        "  N = 200\n",
        "  kc = 0.02\n",
        "  x_ = np.arange(a, b, kc)\n",
        "  y_ = np.arange(a, b, kc)\n",
        "  l = len(x_)\n",
        "\n",
        "  x_, y_ = np.meshgrid(x_, y_)\n",
        "  xx = x_.reshape(-1)\n",
        "  yy = y_.reshape(-1)\n",
        "  X1 = np.vstack((xx, yy))\n",
        "  z = classify(X1)\n",
        "  z = z.reshape(l, l)\n",
        "\n",
        "  plt.contourf(x_, y_, z, lv, cmap='jet', alpha = .3)\n",
        "  \n",
        "  Xt1 = X[:, y[0] == 1]\n",
        "  Xt2 = X[:, y[0] == -1]\n",
        "\n",
        "  plt.plot(Xt1[0], Xt1[1], 'ro', markeredgecolor = 'k')\n",
        "  plt.plot(Xt2[0], Xt2[1], 'bs', markeredgecolor = 'k')\n",
        "\n",
        "  plt.show()\n",
        "\n",
        "def classify(X1):\n",
        "  return np.sign(w.T @ X1 + b)\n"
      ],
      "metadata": {
        "id": "XwHe4SPl34Dp"
      },
      "execution_count": null,
      "outputs": []
    },
    {
      "cell_type": "code",
      "source": [
        "visualize(X, y, 2, -2, 5, 100)"
      ],
      "metadata": {
        "colab": {
          "base_uri": "https://localhost:8080/",
          "height": 592
        },
        "id": "npsZjoAL4nfK",
        "outputId": "d57dca12-b8d8-4448-c81c-06d14b81c572"
      },
      "execution_count": null,
      "outputs": [
        {
          "output_type": "display_data",
          "data": {
            "text/plain": [
              "<Figure size 720x720 with 1 Axes>"
            ],
            "image/png": "[encoded data removed]"
          },
          "metadata": {
            "needs_background": "light"
          }
        }
      ]
    }
  ]
}