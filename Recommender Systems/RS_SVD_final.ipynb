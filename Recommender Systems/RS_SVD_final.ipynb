{
  "nbformat": 4,
  "nbformat_minor": 0,
  "metadata": {
    "colab": {
      "provenance": [],
      "toc_visible": true
    },
    "kernelspec": {
      "name": "python3",
      "display_name": "Python 3"
    },
    "language_info": {
      "name": "python"
    }
  },
  "cells": [
    {
      "cell_type": "markdown",
      "source": [
        "#I. Author: hsthe29\n",
        "* github: https://github.com/hsthe29\n",
        "* IT1-04 | K65-HUST\n",
        "\n",
        "# IT3190 - Nhập môn học máy và khai phá dữ liệu\n",
        "- Mã lớp: 136805 \n",
        "- Kì học: 20221  \n",
        "- Giảng viên hướng dẫn: Nguyễn Nhật Quang \n",
        "- Thành viên nhóm: \n",
        " - Vũ Việt Bách - 20200061 \n",
        " - Nguyễn Minh Tuấn - 20204700 \n",
        " - Nguyễn Khánh An - 20200003 \n",
        " - Hồ Sỹ Thế - 20200614 "
      ],
      "metadata": {
        "id": "5UD5hZUcqANe"
      }
    },
    {
      "cell_type": "markdown",
      "source": [
        "#II. Math background"
      ],
      "metadata": {
        "id": "drjDAkCExQyM"
      }
    },
    {
      "cell_type": "markdown",
      "source": [
        "##2.1 SVD\n",
        "- Gọi ma trận $\\mathbf{A}_{m×n}$, $rank\\left(\\mathbf{A}\\right) = k$ là ma trận `Rating` với $m$ là số lượng user, $n$ là số lượng anime. Người dùng i rate cho anime j số điểm $a_{ij}$.\n",
        "- SVD là phép phân tích ma trận $\\mathbf{A}_{m×n}=\\mathbf{U}_{m×m}\\mathbf{S}_{m×n}\\mathbf{V}_{n×n}^{T}$, trong đó $\\mathbf{U}$ và $\\mathbf{V}$ là ma trận trực giao, $\\mathbf{S}$ là ma trận đường chéo.\n",
        "- Xét tích \n",
        "  - $\\mathbf{A}^T\\mathbf{A} = \\left(\\mathbf{U}\\mathbf{S}\\mathbf{V}^T\\right)^T\\mathbf{U}\\mathbf{S}\\mathbf{V}^T = \\mathbf{V}\\mathbf{S}^T\\mathbf{U}^T\\mathbf{U}\\mathbf{S}\\mathbf{V}^T = \\mathbf{V}\\mathbf{S}^T\\mathbf{S}\\mathbf{V}^T ~~~~ (2.1.1)$\n",
        "  - $\\mathbf{A}\\mathbf{A}^T = \\mathbf{U}\\mathbf{S}\\mathbf{V}^T\\left(\\mathbf{U}\\mathbf{S}\\mathbf{V}^T\\right)^T = \\mathbf{U}\\mathbf{S}\\mathbf{V}^T\\mathbf{V}\\mathbf{S}^T\\mathbf{U}^T = \\mathbf{U}\\mathbf{S}\\mathbf{S}^T\\mathbf{U}^T ~~~~ (2.1.2)$\n",
        "- Giả sử rằng: $\\mathbf{S}_{m×n}=\n",
        " \\begin{pmatrix}\n",
        "  σ_{1} & 0 & \\cdots & 0 \\\\\n",
        "  0 & \\sigma_{2} & \\cdots & 0 \\\\\n",
        "  \\vdots  & \\vdots  & \\ddots & \\vdots  \\\\\n",
        "  0 & 0 & \\cdots & 0\n",
        " \\end{pmatrix} = diag(σ_{1}, σ_{2}, …, σ_{k}, 0, ..., 0)_{m×n}$\n",
        "- Từ đó \n",
        "  - $\\mathbf{A}^T\\mathbf{A}$: $\\mathbf{S}^T\\mathbf{S} = diag(σ_{1}^{2}, σ_{2}^{2}, …, σ_{k}^{2}, 0, ..., 0)_{n×n}$. Do đó $σ_{1}^{2}, σ_{2}^{2}, …, σ_{k}^{2}$ là các trị riêng của $\\mathbf{A}^\\mathbf{T}\\mathbf{A}$.\n",
        "  - $\\mathbf{A}\\mathbf{A}^T$: $\\mathbf{S}\\mathbf{S}^T = diag(σ_{1}^{2}, σ_{2}^{2}, …, σ_{k}^{2}, 0, ..., 0)_{m×m}$. Do đó $σ_{1}^{2}, σ_{2}^{2}, …, σ_{k}^{2}$ là các trị riêng của $\\mathbf{A}^\\mathbf{T}\\mathbf{A}$.\n",
        "\n",
        "- Xét biểu thức (2.1.1): \n",
        "  - $\\mathbf{A}^T\\mathbf{A}$ là ma trận giữa các bộ anime mà các ô là tích vô hướng các vector rating của từng bộ anime.\n",
        "  - $\\mathbf{V}$ là các vector riêng, tức mỗi cột của $\\mathbf{V}$ là một tính chất ẩn của bộ anime tương ứng, dựa vào đây ta có thể tìm được sự tương đồng giữa các bộ anime.\n",
        "\n",
        "- Tương tự với biểu thức (2.1.2).\n",
        "- Ma trận $\\mathbf{S}$ mang thông tin độ mạnh của từng yếu tố của $\\mathbf{U}$ và $\\mathbf{V}$"
      ],
      "metadata": {
        "id": "isXLAJwRp71j"
      }
    },
    {
      "cell_type": "markdown",
      "source": [
        "##2.2 Advanced:\n",
        "\n",
        "Tuy nhiên, việc tính SVD nguyên bản là khá tốn kém (space, time complexity: $O\\left(\\min(mn^2, nm^2)\\right)$)) và phức tạp:\n",
        "\n",
        "Vì vậy, ta dùng một cách đơn giản hơn. Đó là sẽ phân tích  $\\mathbf{A}_{m×n}=\\mathbf{P}_{m×r}\\mathbf{Q}_{n×r}^{T}$\n",
        "\n",
        "Bài toán xấp xỉ ma trận $\\mathbf{A}_{m×n}$ bởi ma trận $\\mathbf{X}_{m×n} = \\mathbf{P}_{m×r}\\mathbf{Q}_{n×r}^T$ có $rank = r$ được viết lại: $\\mathbf{A}^*=\\underset{\\mathbf{X}}{\\operatorname{argmin}} \\left(||\\mathbf{A}-\\mathbf{X}||_F\\right)$.\n",
        "\n",
        "gọi ma trận $r_{m×n}: r_{ij} = 1$ nếu user i rate cho anime j và = 0 nếu ngược lại.\n",
        "\n",
        "Xét $L = \\frac{1}{2}||\\mathbf{A}-\\mathbf{P}\\mathbf{Q}||_F^2$:\n",
        "- $L(\\mathbf{P}, \\mathbf{Q}) = \\frac{1}{2} \\sum_{m} \\sum_{n:r_{mn}=1} (a_{mn} - \\mathbf{p}_{:m}\\mathbf{q}_{:n}^T)^2 ~~~~~ (2.2.1)$\n",
        "\n",
        "- Xếp hạng dự đoán cho $a_{mn}$ là $\\hat{a}_{mn}=\\mathbf{p}_{:m}\\mathbf{q}_{:n}^T$\n",
        "\n",
        "Áp dụng `L2 Regularization` ta được:\n",
        "- $L(\\mathbf{P}, \\mathbf{Q}, \\mathbf{bu},\\mathbf{bi}) = \\frac{1}{2}\\sum_{m} \\sum_{n:r_{mn}=1} (a_{mn} - \\mathbf{p}_{:m}\\mathbf{q}_{:n}^T )^2 + \\frac{\\lambda}{2} (||\\mathbf{P}||_F^2 + ||\\mathbf{Q}||_F^2) ~~~~~ (2.2.2)$\n",
        "\n",
        "### Phương pháp tối ưu: Lần lượt cập nhật một biến trong khi cố định các biến khác\n",
        "\n",
        "Xét 1 lượt đánh giá bởi user $u$ cho anime $i$ với số điểm là $a$, gọi số điểm dự đoán là $\\hat{a}$.\n",
        "\n",
        "Kí hiệu $\\mathbf{p}_u = \\mathbf{P}_{:u}$, $\\mathbf{q}_i=\\mathbf{Q}_{:i}$, theo công thức (2.2.2) ta có:\n",
        "- $\\hat{a} = \\mathbf{p}_u\\mathbf{q}_i^T$\n",
        "- Ta có: $L\\left(\\mathbf{p}_u, \\mathbf{q}_i\\right)=\\frac{1}{2}\\left(a - \\hat{a}\\right)^2 + \\frac{\\lambda}{2}\\left(||\\mathbf{p}_u||_2^2 + ||\\mathbf{q}_i||_2^2 \\right) = \\frac{1}{2}\\left(a - \\mathbf{p}_u\\mathbf{q}_i^T\\right)^2 + \\frac{\\lambda}{2}\\left(||\\mathbf{p}_u||_2^2 + ||\\mathbf{q}_i||_2^2 \\right)$\n",
        "- $\\frac{\\partial L}{\\partial \\mathbf{p}_u} = -\\left(a - \\mathbf{p}_u\\mathbf{q}_i^T\\right)\\mathbf{q}_i + \\lambda \\mathbf{p}_u$ \n",
        "- $\\frac{\\partial L}{\\partial \\mathbf{q}_{:n}} = -\\left(a - \\mathbf{p}_u\\mathbf{q}_i^T\\right)\\mathbf{p}_u + \\lambda \\mathbf{q}_i$\n",
        "\n",
        "Quy tắc cập nhật:\n",
        "- $\\mathbf{p}_u = \\mathbf{p}_u + η\\left(a - \\mathbf{p}_u\\mathbf{q}_i^T\\right)\\mathbf{q}_i + \\lambda \\mathbf{p}_u$ \n",
        "- $\\mathbf{q}_i = \\mathbf{q}_i + η\\left(a - \\mathbf{p}_u\\mathbf{q}_i^T\\right)\\mathbf{p}_u + \\lambda \\mathbf{q}_i$"
      ],
      "metadata": {
        "id": "7Tz3L8pcqlEo"
      }
    },
    {
      "cell_type": "markdown",
      "source": [
        "##2.3 Mở rộng từ **2.2**\n",
        "\n",
        "- Xếp hạng dự đoán cho $a_{mn}$ là $\\hat{a}_{mn}=\\mathbf{p}_{:m}\\mathbf{q}_{:n}^T$\n",
        "- Tuy nhiên $\\mathbf{p}_{:m}\\mathbf{q}_{:n}^T$, chỉ ghi lại mối quan hệ giữa người dùng và item. Trên thực tế, xếp hạng được quan sát có thể bị ảnh hưởng bởi sở thích của người dùng hoặc đặc điểm của item. Nói cách khác, mối quan hệ giữa người dùng và item có thể được thay thế bằng thông tin sai lệch (vd tính thiên vị, nghiêm khắc, ...). Thông tin thiên vị về người dùng và vật phẩm có thể phản ánh sự thật của xếp hạng một cách khách quan hơn. Do đó, xếp hạng dự đoán được thay đổi thành:\n",
        " - $\\hat{a}_{mn}=\\mathbf{p}_{:m}\\mathbf{q}_{:n}^T + μ + b_u + b_i$\n",
        "- Trong đó $μ$ là xếp hạng trung bình tổng thể và $(b_u, b_i)$ cho biết độ lệch quan sát được của người dùng và item tương ứng.\n",
        "\n",
        "Xét 1 lượt đánh giá bởi user $u$ cho anime $i$ với số điểm là $a$, gọi số điểm dự đoán là $\\hat{a}$.\n",
        "\n",
        "Kí hiệu $\\mathbf{p}_u = \\mathbf{P}_{:u}$, $\\mathbf{q}_i=\\mathbf{Q}_{:i}$, $b_u = \\mathbf{bu}_u$, $b_i = \\mathbf{bi}_i$, theo công thức (2) ta có:\n",
        "- $\\hat{a} = \\mathbf{p}_u\\mathbf{q}_i^T + μ + b_u + b_i ~~~~~~ (2.3.1)$\n",
        "- Ta có: $L\\left(\\mathbf{p}_u, \\mathbf{q}_i, b_u, b_i\\right)=\\frac{1}{2}\\left(a - \\hat{a}\\right)^2 + \\frac{\\lambda}{2}\\left(||\\mathbf{p}_u||_2^2 + ||\\mathbf{q}_i||_2^2 \\right) = \\frac{1}{2}\\left(a - \\mathbf{p}_u\\mathbf{q}_i^T - μ - b_u - b_i\\right)^2 + \\frac{\\lambda}{2}\\left(||\\mathbf{p}_u||_2^2 + ||\\mathbf{q}_i||_2^2 \\right)$\n",
        "- $\\frac{\\partial L}{\\partial \\mathbf{p}_u} = -\\left(a - \\mathbf{p}_u\\mathbf{q}_i^T - μ - b_u - b_i\\right)\\mathbf{q}_i + \\lambda \\mathbf{p}_u$ \n",
        "- $\\frac{\\partial L}{\\partial \\mathbf{q}_{:n}} = -\\left(a - \\mathbf{p}_u\\mathbf{q}_i^T - μ - b_u - b_i\\right)\\mathbf{p}_u + \\lambda \\mathbf{q}_i$\n",
        "- $\\frac{\\partial L}{\\partial b_u} = -\\left(a - \\mathbf{p}_u\\mathbf{q}_i^T - \\mu\n",
        "-b_u - b_i\\right)$\n",
        "- $\\frac{\\partial L}{\\partial b_i} = -\\left(a - \\mathbf{p}_u\\mathbf{q}_i^T - μ- b_u - b_i\\right)$\n",
        "\n",
        "Quy tắc cập nhật:\n",
        "- $\\mathbf{p}_u = \\mathbf{p}_u + η\\left(a - \\mathbf{p}_u\\mathbf{q}_i^T - μ - b_u - b_i\\right)\\mathbf{q}_i + \\lambda \\mathbf{p}_u ~~~~~~ (2.3.2)$ \n",
        "- $\\mathbf{q}_i = \\mathbf{q}_i + η\\left(a - \\mathbf{p}_u\\mathbf{q}_i^T - μ - b_u - b_i\\right)\\mathbf{p}_u + \\lambda \\mathbf{q}_i ~~~~~~ (2.3.3)$\n",
        "- $b_u = b_u + η\\left(a - \\mathbf{p}_u\\mathbf{q}_i^T - μ - b_u - b_i\\right) ~~~~~~ (2.3.4)$\n",
        "- $b_i = b_i + η\\left(a - \\mathbf{p}_u\\mathbf{q}_i^T - μ - b_u - b_i\\right) ~~~~~~ (2.3.5)$"
      ],
      "metadata": {
        "id": "C9VyPSfE063E"
      }
    },
    {
      "cell_type": "markdown",
      "source": [
        "#III. Implementation (Algorithm **2.3** - SVD based)\n",
        "\n",
        "**Input:**\n",
        "- $\\mathbf{A}_{m×n}$ – ma trận \"user-item\"\n",
        "- $d$ – số lượng latent factors\n",
        "- $λ$ – tham số `regularization` của hàm mục tiêu\n",
        "- $k$ – số lượng vòng lặp (epochs)\n",
        "- $𝛆$ – min_delta (điều kiện dừng)\n",
        "\n",
        "**Output:** ma trận $\\mathbf{P}$, $\\mathbf{Q}$ và $\\mathbf{bu}$, $\\mathbf{bi}$\n",
        "\n",
        "**Thuật toán:**\n",
        "- (1): Khởi tạo ngẫu nhiên $\\mathbf{P}$, $\\mathbf{Q}$, $\\mathbf{bu}$, $\\mathbf{bi}$, t = 0\n",
        "- (2): Tính xếp hạng dự đoán theo công thức (2.3.1)\n",
        "- (3): Cập nhật $\\mathbf{P}^{(t)}$, $\\mathbf{Q}^{(t)}$, $\\mathbf{bu}^{(t)}$, $\\mathbf{bi}^{(t)}$ theo công thức (2.3.2) - (2.3.5)\n",
        "- (4): $e^{(t)} = L(\\mathbf{P}^{(t)}, \\mathbf{Q}^{(t)}, \\mathbf{bu}^{(t)}, \\mathbf{bi}^{(t)})$ \n",
        "- (5): if $∑_{s=0}^{\\text{w_size}}e^{(t-s)} < ∑_{s=0}^{\\text{w_size}}e^{(t-\\text{w_size}-  s)}$ thì dừng, nếu không: $t = t + 1$ và quay lại bước (2).\n",
        "\n"
      ],
      "metadata": {
        "id": "TElvZnz_xY2c"
      }
    },
    {
      "cell_type": "code",
      "execution_count": 1,
      "metadata": {
        "id": "RuTuLvzeZg3m"
      },
      "outputs": [],
      "source": [
        "import numpy as np\n",
        "from numba import njit, prange\n",
        "import matplotlib.pyplot as plt\n",
        "import pandas as pd\n",
        "import seaborn as sns\n",
        "from scipy.sparse import coo_matrix\n",
        "import numba\n",
        "import time\n",
        "from functools import wraps\n",
        "from math import trunc\n",
        "from sklearn.metrics import mean_absolute_error, mean_squared_error,\\\n",
        "    mean_absolute_percentage_error, r2_score"
      ]
    },
    {
      "cell_type": "code",
      "source": [
        "from google.colab import drive\n",
        "drive.mount('/content/drive')\n",
        "\n",
        "%cd drive/MyDrive/ML_class_proj/processed_data"
      ],
      "metadata": {
        "colab": {
          "base_uri": "https://localhost:8080/"
        },
        "id": "P9mUURPVD2LV",
        "outputId": "5fcdf98f-ca48-4976-9070-14bf222e5ea9"
      },
      "execution_count": 3,
      "outputs": [
        {
          "output_type": "stream",
          "name": "stdout",
          "text": [
            "Drive already mounted at /content/drive; to attempt to forcibly remount, call drive.mount(\"/content/drive\", force_remount=True).\n",
            "/content/drive/.shortcut-targets-by-id/1i0H6zMhMZWyNmMpsgrDiWXqTH8q7pmvn/ML_class_proj/processed_data\n"
          ]
        }
      ]
    },
    {
      "cell_type": "markdown",
      "source": [
        "# Dataset"
      ],
      "metadata": {
        "id": "7RN3dIr9Jg57"
      }
    },
    {
      "cell_type": "code",
      "source": [
        "u_a_df = pd.read_csv('train_set.csv')\n",
        "test_df = pd.read_csv('test_set.csv')\n",
        "u_df = pd.read_csv('users.csv')\n",
        "a_df = pd.read_csv('anime.csv')"
      ],
      "metadata": {
        "id": "Z3SWGlO9D9AS"
      },
      "execution_count": null,
      "outputs": []
    },
    {
      "cell_type": "code",
      "source": [
        "N_USERS = u_df.shape[0]\n",
        "N_ANIMES = a_df.shape[0]"
      ],
      "metadata": {
        "id": "sm8DTjuxJji1"
      },
      "execution_count": null,
      "outputs": []
    },
    {
      "cell_type": "code",
      "source": [
        "N_USERS, N_ANIMES"
      ],
      "metadata": {
        "colab": {
          "base_uri": "https://localhost:8080/"
        },
        "id": "AIqY2qF-LrSL",
        "outputId": "b5b5cf55-b09f-4a6e-cb37-60d4b8efde93"
      },
      "execution_count": null,
      "outputs": [
        {
          "output_type": "execute_result",
          "data": {
            "text/plain": [
              "(108711, 6668)"
            ]
          },
          "metadata": {},
          "execution_count": 6
        }
      ]
    },
    {
      "cell_type": "code",
      "source": [
        "train = u_a_df[[\"anime_id\", \"user_id\", \"my_score\"]]\n",
        "test = test_df[[\"anime_id\", \"user_id\", \"my_score\"]]\n",
        "train.columns = ['i_id', 'u_id', 'rating']\n",
        "test.columns = ['i_id', 'u_id', 'rating']"
      ],
      "metadata": {
        "id": "l3K59WktJqC8"
      },
      "execution_count": null,
      "outputs": []
    },
    {
      "cell_type": "markdown",
      "source": [
        "# Utils"
      ],
      "metadata": {
        "id": "UAfWSbpwIYhd"
      }
    },
    {
      "cell_type": "code",
      "source": [
        "def get_version():\n",
        "    return '1.0.0-final'\n",
        "\n",
        "\n",
        "def _timer(text=''):\n",
        "    def decorator(func):\n",
        "        @wraps(func)\n",
        "        def wrapper(*args, **kwargs):\n",
        "            start = time.perf_counter()\n",
        "            result = func(*args, **kwargs)\n",
        "            end = time.perf_counter()\n",
        "            hours = trunc((end - start) / 3600)\n",
        "            minutes = trunc((end - start) / 60)\n",
        "            seconds = round((end - start) % 60)\n",
        "\n",
        "            if hours > 1:\n",
        "                print(text + '{} hours {} min and {} sec'.format(hours,\n",
        "                                                                 minutes,\n",
        "                                                                 seconds))\n",
        "            elif hours == 1:\n",
        "                print(text + '{} hour {} min and {} sec'.format(hours, minutes,\n",
        "                                                                seconds))\n",
        "            elif minutes >= 1:\n",
        "                print(text + '{} min and {} sec'.format(minutes, seconds))\n",
        "            else:\n",
        "                print(text + '{} sec'.format(seconds))\n",
        "\n",
        "            return result\n",
        "        return wrapper\n",
        "    return decorator"
      ],
      "metadata": {
        "id": "8hOftCVaIbDM"
      },
      "execution_count": 11,
      "outputs": []
    },
    {
      "cell_type": "markdown",
      "source": [
        "# Fast methods"
      ],
      "metadata": {
        "id": "x_mfj58hH1CW"
      }
    },
    {
      "cell_type": "code",
      "source": [
        "# numba jit compiler\n",
        "\n",
        "@njit\n",
        "def _shuffle(X):\n",
        "    np.random.shuffle(X)\n",
        "    return X\n",
        "\n",
        "@njit\n",
        "def _initialization(n_users, n_items, n_factors):\n",
        "    bu = np.zeros(n_users)\n",
        "    bi = np.zeros(n_items)\n",
        "    P = np.random.normal(0, .1, (n_users, n_factors))\n",
        "    Q = np.random.normal(0, .1, (n_items, n_factors))\n",
        "\n",
        "    return bu, bi, P, Q\n",
        "\n",
        "@njit\n",
        "def _run_epoch_batch(X, bu, bi, P, Q, global_mean, n_factors, lr, reg, batch_size=100):\n",
        "    iterations = X.shape[0] // batch_size\n",
        "    if(X.shape[0]%batch_size) != 0:\n",
        "        iterations += 1\n",
        "    mask = np.arange(X.shape[0])\n",
        "    np.random.shuffle(mask)\n",
        "    for i in range(iterations):\n",
        "        indices = mask[i*batch_size:min((i+1)*batch_size, X.shape[0])]\n",
        "        users, items, ratings = X[indices, 0].astype(np.int32), X[indices, 1].astype(np.int32), X[indices, 2]\n",
        "        pu = P[users]\n",
        "        qi = Q[items]\n",
        "        # Predict current rating\n",
        "        preds = global_mean + bu[users] + bi[items]\n",
        "\n",
        "        preds += np.sum(pu*qi, axis=1)\n",
        "\n",
        "        err = ratings - preds\n",
        "\n",
        "        # Update biases\n",
        "        bu[users] += lr * (err - 0*reg * bu[users])\n",
        "        bi[items] += lr * (err - 0*reg * bi[items])\n",
        "        # Update latent factors\n",
        "        err = err.reshape(-1, 1)\n",
        "        P[users] += lr*(err*qi - reg*pu)\n",
        "        Q[items] += lr*(err*pu - reg*qi)\n",
        "\n",
        "    return bu, bi, P, Q\n",
        "\n",
        "@njit\n",
        "def _run_epoch_sgd(X, bu, bi, P, Q, global_mean, n_factors, lr, reg):\n",
        "    for i in range(X.shape[0]):\n",
        "        user, item, rating = int(X[i, 0]), int(X[i, 1]), X[i, 2]\n",
        "\n",
        "        # Predict current rating\n",
        "        pred = global_mean + bu[user] + bi[item]\n",
        "\n",
        "        for factor in range(n_factors):\n",
        "            pred += P[user, factor] * Q[item, factor]\n",
        "\n",
        "        err = rating - pred\n",
        "\n",
        "        # Update biases\n",
        "        bu[user] += lr * (err - 0*reg * bu[user])\n",
        "        bi[item] += lr * (err - 0*reg * bi[item])\n",
        "\n",
        "        # Update latent factors\n",
        "        for factor in range(n_factors):\n",
        "            puf = P[user, factor]\n",
        "            qif = Q[item, factor]\n",
        "\n",
        "            P[user, factor] += lr * (err * qif - reg * puf)\n",
        "            Q[item, factor] += lr * (err * puf - reg * qif)\n",
        "\n",
        "    return bu, bi, P, Q\n",
        "\n",
        "@njit\n",
        "def _compute_loss(X, bu, bi, P, Q, global_mean, reg, n_factors):\n",
        "    loss = 0\n",
        "    for i in range(X.shape[0]):\n",
        "        user, item, rating = int(X[i, 0]), int(X[i, 1]), X[i, 2]\n",
        "        sp = 0\n",
        "        sq = 0\n",
        "        pred = global_mean + bu[user] + bi[item]\n",
        "\n",
        "        for factor in range(n_factors):\n",
        "            puf = P[user, factor]\n",
        "            qif = Q[item, factor]\n",
        "            pred += puf*qif\n",
        "            sp += puf*puf\n",
        "            sq = qif*qif\n",
        "\n",
        "        err = rating - pred\n",
        "               \n",
        "        loss += err*err + reg*(sp+sq)\n",
        "\n",
        "    return 0.5*loss\n",
        "\n",
        "@njit\n",
        "def _compute_train_metrics(X, bu, bi, P, Q, global_mean, n_factors):\n",
        "    diffs = []\n",
        "    for i in range(X.shape[0]):\n",
        "        user, item, rating = int(X[i, 0]), int(X[i, 1]), X[i, 2]\n",
        "        pred = global_mean\n",
        "\n",
        "        if user > -1:\n",
        "            pred += bu[user]\n",
        "\n",
        "        if item > -1:\n",
        "            pred += bi[item]\n",
        "\n",
        "        if (user > -1) and (item > -1):\n",
        "            for factor in range(n_factors):\n",
        "                pred += P[user, factor] * Q[item, factor]\n",
        "\n",
        "        diffs.append(rating - pred)\n",
        "\n",
        "    diffs = np.array(diffs)\n",
        "    loss = np.square(diffs).mean()\n",
        "\n",
        "    return loss\n",
        "\n",
        "@njit\n",
        "def _compute_val_metrics(X_val, bu, bi, P, Q, global_mean, n_factors):\n",
        "    diffs = []\n",
        "    for i in range(X_val.shape[0]):\n",
        "        user, item, rating = int(X_val[i, 0]), int(X_val[i, 1]), X_val[i, 2]\n",
        "        pred = global_mean\n",
        "\n",
        "        if user > -1:\n",
        "            pred += bu[user]\n",
        "\n",
        "        if item > -1:\n",
        "            pred += bi[item]\n",
        "\n",
        "        if (user > -1) and (item > -1):\n",
        "            for factor in range(n_factors):\n",
        "                pred += P[user, factor] * Q[item, factor]\n",
        "\n",
        "        diffs.append(rating - pred)\n",
        "\n",
        "    diffs = np.array(diffs)\n",
        "    loss = np.square(diffs).mean()\n",
        "    rmse = np.sqrt(loss)\n",
        "    mae = np.absolute(diffs).mean()\n",
        "\n",
        "    return loss, rmse, mae\n",
        "\n",
        "@njit\n",
        "def normalize(y_pred, min_rating, max_rating):\n",
        "    res = np.zeros_like(y_pred)\n",
        "    for i in prange(y_pred.shape[0]):\n",
        "        if y_pred[i] > max_rating:\n",
        "            y_pred[i] = max_rating\n",
        "        if y_pred[i] < min_rating:\n",
        "            y_pred[i] = min_rating\n",
        "        res[i] = round(y_pred[i], 0)\n",
        "\n",
        "    return res\n"
      ],
      "metadata": {
        "id": "xj5CoK-9HzCP"
      },
      "execution_count": 5,
      "outputs": []
    },
    {
      "cell_type": "code",
      "source": [
        "def preprocess_data(X, test, val_ratio=0.2):       \n",
        "    print('Preprocessing ...\\n')\n",
        "    val_size = int(X.shape[0]*val_ratio) if val_ratio < 1 else val_ratio\n",
        "    select_idices = np.random.choice(X.shape[0], val_size)\n",
        "    mask = np.ones(X.shape[0], dtype=bool)\n",
        "    mask[select_idices] = False\n",
        "    \n",
        "    X_val = (X.iloc[select_idices]).copy()\n",
        "    X = (X.iloc[mask]).copy()\n",
        "    test = test.copy()\n",
        "\n",
        "    user_ids = X['u_id'].unique().tolist()\n",
        "    item_ids = X['i_id'].unique().tolist()\n",
        "\n",
        "    n_users = len(user_ids)\n",
        "    n_items = len(item_ids)\n",
        "\n",
        "    user_idx = range(n_users)\n",
        "    item_idx = range(n_items)\n",
        "\n",
        "    user_mapping_ = dict(zip(user_ids, user_idx))\n",
        "    item_mapping_ = dict(zip(item_ids, item_idx))\n",
        "    #\n",
        "    X['u_id'] = X['u_id'].map(user_mapping_)\n",
        "    X['i_id'] = X['i_id'].map(item_mapping_)\n",
        "    #\n",
        "    X_val['u_id'] = X_val['u_id'].map(user_mapping_)\n",
        "    X_val['i_id'] = X_val['i_id'].map(item_mapping_)\n",
        "    #\n",
        "    test['u_id'] = test['u_id'].map(user_mapping_)\n",
        "    test['i_id'] = test['i_id'].map(item_mapping_)\n",
        "\n",
        "    X_val.fillna(-1, inplace=True)\n",
        "    test.fillna(-1, inplace=True)\n",
        "\n",
        "    X['u_id'] = X['u_id'].astype(np.int32)\n",
        "    X['i_id'] = X['i_id'].astype(np.int32)\n",
        "    X_val['u_id'] = X_val['u_id'].astype(np.int32)\n",
        "    X_val['i_id'] = X_val['i_id'].astype(np.int32)\n",
        "    test['u_id'] = test['u_id'].astype(np.int32)\n",
        "    test['i_id'] = test['i_id'].astype(np.int32)\n",
        "\n",
        "    ret_X = X[['u_id', 'i_id', 'rating']].values\n",
        "    ret_Val = X_val[['u_id', 'i_id', 'rating']].values\n",
        "    ret_test = test[['u_id', 'i_id', 'rating']].values\n",
        "\n",
        "    del X\n",
        "    del X_val\n",
        "    del test\n",
        "\n",
        "    print(\"Occupied memory:\")\n",
        "    print(\"    ---> Train:      \", round(ret_X.size*ret_X.itemsize/(1<<30), 3), \"GB\")\n",
        "    print(\"    ---> Validation: \", round(ret_Val.size*ret_Val.itemsize/(1<<30), 3), \"GB\")\n",
        "    print(\"    ---> Test:       \", round(ret_test.size*ret_test.itemsize/(1<<30), 3), \"GB\")\n",
        "\n",
        "    return ret_X, ret_Val, ret_test"
      ],
      "metadata": {
        "id": "bg__MWCuiieW"
      },
      "execution_count": 6,
      "outputs": []
    },
    {
      "cell_type": "markdown",
      "source": [
        "# SVD Core"
      ],
      "metadata": {
        "id": "aaH86yL5H6Ll"
      }
    },
    {
      "cell_type": "code",
      "source": [
        "# SVD class\n",
        "\n",
        "class SVD:\n",
        "\n",
        "    def __init__(self, lr=.005, reg=.02, n_epochs=20, n_factors=100,\n",
        "                 early_stopping=False, shuffle=False, min_delta=.001,\n",
        "                 min_rating=1, max_rating=10):\n",
        "\n",
        "        self.lr = lr\n",
        "        self.reg = reg\n",
        "        self.n_epochs = n_epochs\n",
        "        self.n_factors = n_factors\n",
        "        self.early_stopping = early_stopping\n",
        "        self.shuffle = shuffle\n",
        "        self.min_delta = min_delta\n",
        "        self.min_rating = min_rating\n",
        "        self.max_rating = max_rating\n",
        "\n",
        "    @_timer(text='\\nTraining took ')\n",
        "    def fit(self, X: pd.DataFrame, X_val: pd.DataFrame=None, method='sgd'):\n",
        "        if self.early_stopping:\n",
        "          self._chek_current = 0\n",
        "          self._chek_last = 1e6\n",
        "\n",
        "        if X_val is not None:\n",
        "            self._init_metrics()\n",
        "\n",
        "        self.global_mean_ = np.mean(X[:, 2])\n",
        "        if method == 'sgd':\n",
        "          history, train_mse, val_mse = self._run_sgd(X, X_val)\n",
        "        elif method == 'batch':\n",
        "          history, train_mse, val_mse = self._run_mini_batch(X, X_val)\n",
        "        else:\n",
        "          raise KeyError(f'\\'{method}\\' currently not supported')\n",
        "\n",
        "        return pd.DataFrame(data={\n",
        "            'epoch': np.arange(len(history)),\n",
        "            'l2-regularization loss': history,\n",
        "            'train-mse': train_mse,\n",
        "            'val-mse': val_mse})\n",
        "\n",
        "    def _init_metrics(self):\n",
        "        metrics = np.zeros((self.n_epochs, 3), dtype=float)\n",
        "        self.metrics_ = pd.DataFrame(metrics, columns=['Loss', 'RMSE', 'MAE'])\n",
        "\n",
        "    def _run_mini_batch(self, X, X_val):\n",
        "        n_users = len(np.unique(X[:, 0]))\n",
        "        n_items = len(np.unique(X[:, 1]))\n",
        "\n",
        "        bu, bi, P, Q = _initialization(n_users, n_items, self.n_factors)\n",
        "        \n",
        "        hist = []\n",
        "        hist_mse = []\n",
        "\n",
        "        # Run mini-batch\n",
        "        for ep in range(self.n_epochs):\n",
        "            start = self._on_epoch_begin(ep)\n",
        "\n",
        "            if self.shuffle:\n",
        "                X = _shuffle(X)\n",
        "\n",
        "            bu, bi, P, Q = _run_epoch_batch(X, bu, bi, P, Q, self.global_mean_,\n",
        "                                        self.n_factors, self.lr, self.reg)\n",
        "            \n",
        "            loss = _compute_loss(X, bu, bi, P, Q,\n",
        "                                 self.global_mean_,\n",
        "                                 self.reg,\n",
        "                                 self.n_factors)\n",
        "            hist.append(loss)\n",
        "            hist_mse.append(_compute_train_metrics(X, bu, bi, P, Q,\n",
        "                                                     self.global_mean_,\n",
        "                                                     self.n_factors))\n",
        "\n",
        "            if X_val is not None:\n",
        "                self.metrics_.loc[ep, :] = _compute_val_metrics(\n",
        "                                                     X_val, bu, bi, P, Q,\n",
        "                                                     self.global_mean_,\n",
        "                                                     self.n_factors\n",
        "                                                 )\n",
        "                self._on_epoch_end(start, loss,\n",
        "                                   self.metrics_.loc[ep, 'Loss'],\n",
        "                                   self.metrics_.loc[ep, 'RMSE'],\n",
        "                                   self.metrics_.loc[ep, 'MAE'])\n",
        "\n",
        "                if self.early_stopping:\n",
        "                    val_rmse = self.metrics_['RMSE'].tolist()\n",
        "                    if self._early_stopping(val_rmse, ep,\n",
        "                                            self.min_delta):\n",
        "                        break\n",
        "\n",
        "            else:\n",
        "                self._on_epoch_end(start, loss)\n",
        "\n",
        "        self.bu_ = bu\n",
        "        self.bi_ = bi\n",
        "        self.P_ = P\n",
        "        self.Q_ = Q\n",
        "        \n",
        "        return hist, hist_mse, self.metrics_[:len(hist)]['Loss' ].values\n",
        "\n",
        "    def _run_sgd(self, X, X_val):\n",
        "        n_users = len(np.unique(X[:, 0]))\n",
        "        n_items = len(np.unique(X[:, 1]))\n",
        "\n",
        "        bu, bi, P, Q = _initialization(n_users, n_items, self.n_factors)\n",
        "        hist = []\n",
        "        hist_mse = []\n",
        "\n",
        "        # Run SGD\n",
        "        for epoch_ix in range(self.n_epochs):\n",
        "            start = self._on_epoch_begin(epoch_ix)\n",
        "\n",
        "            if self.shuffle:\n",
        "                X = _shuffle(X)\n",
        "\n",
        "            bu, bi, P, Q = _run_epoch_sgd(X, bu, bi, P, Q, self.global_mean_,\n",
        "                                        self.n_factors, self.lr, self.reg)\n",
        "            \n",
        "            loss = _compute_loss(X, bu, bi, P, Q,\n",
        "                                 self.global_mean_,\n",
        "                                 self.reg,\n",
        "                                 self.n_factors)\n",
        "            hist.append(loss)\n",
        "            hist_mse.append(_compute_train_metrics(X, bu, bi, P, Q,\n",
        "                                                     self.global_mean_,\n",
        "                                                     self.n_factors))\n",
        "\n",
        "            if X_val is not None:\n",
        "                self.metrics_.loc[epoch_ix, :] = _compute_val_metrics(\n",
        "                                                     X_val, bu, bi, P, Q,\n",
        "                                                     self.global_mean_,\n",
        "                                                     self.n_factors\n",
        "                                                 )\n",
        "                self._on_epoch_end(start, loss,\n",
        "                                   self.metrics_.loc[epoch_ix, 'Loss'],\n",
        "                                   self.metrics_.loc[epoch_ix, 'RMSE'],\n",
        "                                   self.metrics_.loc[epoch_ix, 'MAE'])\n",
        "\n",
        "                if self.early_stopping:\n",
        "                    val_rmse = self.metrics_['RMSE'].tolist()\n",
        "                    if self._early_stopping(val_rmse, epoch_ix,\n",
        "                                            self.min_delta):\n",
        "                        break\n",
        "\n",
        "            else:\n",
        "                self._on_epoch_end(start, loss)\n",
        "\n",
        "        self.bu_ = bu\n",
        "        self.bi_ = bi\n",
        "        self.P_ = P\n",
        "        self.Q_ = Q\n",
        "        return hist, hist_mse, self.metrics_[:len(hist)]['Loss' ].values\n",
        "\n",
        "    def predict(self, X, clip=True):\n",
        "        preds = [0.]*X.shape[0]\n",
        "\n",
        "        for i in range(X.shape[0]):\n",
        "            user_known, item_known = False, False\n",
        "            pred = self.global_mean_\n",
        "\n",
        "            if int(X[i, 0]) > -1:\n",
        "                user_known = True\n",
        "                pred += self.bu_[int(X[i, 0])]\n",
        "\n",
        "            if int(X[i, 1]) > -1:\n",
        "                item_known = True\n",
        "                pred += self.bi_[int(X[i, 1])]\n",
        "\n",
        "            if user_known and item_known:\n",
        "                pred += np.dot(self.P_[int(X[i, 0])], self.Q_[int(X[i, 1])])\n",
        "\n",
        "            if clip:\n",
        "                pred = self.max_rating if pred > self.max_rating else pred\n",
        "                pred = self.min_rating if pred < self.min_rating else pred\n",
        "\n",
        "            preds[i] = pred\n",
        "\n",
        "        return np.asarray(preds)\n",
        "\n",
        "    def _early_stopping(self, val_rmse, ep, min_delta):\n",
        "        if (ep+1)%5 == 0:\n",
        "            # if val_rmse[epoch_idx] + min_delta > val_rmse[epoch_idx-1]:\n",
        "            if self._chek_current + min_delta > self._chek_last:\n",
        "                # self.metrics_ = self.metrics_.loc[:(ep-2), :]\n",
        "                return True\n",
        "            self._chek_last = self._chek_current\n",
        "            self._chek_current = 0\n",
        "            \n",
        "        else:\n",
        "            self._chek_current += val_rmse[ep]\n",
        "\n",
        "        return False\n",
        "\n",
        "    def _on_epoch_begin(self, ep):\n",
        "        start = time.perf_counter()\n",
        "        if ep < 9:\n",
        "          end = '   |  '\n",
        "        elif ep < 99:\n",
        "          end = '  |  '\n",
        "        else:\n",
        "          end = ' |  '\n",
        "        print('Epoch {}/{}'.format(ep + 1, self.n_epochs), end=end)\n",
        "\n",
        "        return start\n",
        "\n",
        "    def _on_epoch_end(self, start, loss, val_loss=None, val_rmse=None, val_mae=None):\n",
        "        \"\"\"Displays epoch ending log.\n",
        "        \"\"\"\n",
        "        end = time.perf_counter()\n",
        "\n",
        "        print(f'training loss: {loss:4.3f}', end='  |  ')\n",
        "\n",
        "        if val_loss is not None:\n",
        "            print(f'val_loss: {val_loss:4.3f}', end='  |  ')\n",
        "            print(f'val_rmse: {val_rmse:4.3f}', end='  |  ')\n",
        "            print(f'val_mae: {val_mae:4.3f}', end='  |  ')\n",
        "\n",
        "        print(f'took {end - start:.3f} sec')"
      ],
      "metadata": {
        "id": "wV--8hT1H8oX"
      },
      "execution_count": null,
      "outputs": []
    },
    {
      "cell_type": "markdown",
      "source": [
        "# Run"
      ],
      "metadata": {
        "id": "ZFNILEZCKpq0"
      }
    },
    {
      "cell_type": "code",
      "source": [
        "loaded = False"
      ],
      "metadata": {
        "id": "4Fm0U43_6twc"
      },
      "execution_count": null,
      "outputs": []
    },
    {
      "cell_type": "code",
      "source": [
        "# Load and preprocess data\n",
        "\n",
        "if not loaded:\n",
        "  train_inp, val_inp, test_inp = preprocess_data(train, test, val_ratio=20000)\n",
        "  loaded = True\n"
      ],
      "metadata": {
        "colab": {
          "base_uri": "https://localhost:8080/"
        },
        "id": "xD4ari-Js3Ui",
        "outputId": "421d529f-aa59-4eca-ac8a-2ef5ae743e61"
      },
      "execution_count": null,
      "outputs": [
        {
          "output_type": "stream",
          "name": "stdout",
          "text": [
            "Preprocessing ...\n",
            "\n",
            "Occupied memory:\n",
            "    ---> Train:       0.379 GB\n",
            "    ---> Validation:  0.0 GB\n",
            "    ---> Test:        0.051 GB\n"
          ]
        }
      ]
    },
    {
      "cell_type": "code",
      "source": [
        "# Load model\n",
        "\n",
        "svd = SVD(lr=0.0005, reg=0.05, n_epochs=500, n_factors=50, early_stopping=True,\n",
        "          shuffle=False, min_rating=1, max_rating=10, min_delta=0.0001)"
      ],
      "metadata": {
        "id": "bU_CF8geKoZr"
      },
      "execution_count": null,
      "outputs": []
    },
    {
      "cell_type": "code",
      "source": [
        "history = svd.fit(X=train_inp, X_val=val_inp, method='sgd')"
      ],
      "metadata": {
        "colab": {
          "base_uri": "https://localhost:8080/"
        },
        "id": "AflNmd1ydol4",
        "outputId": "b6211006-7a74-4e1f-dc8d-5dec24b4f90a"
      },
      "execution_count": null,
      "outputs": [
        {
          "output_type": "stream",
          "name": "stdout",
          "text": [
            "Epoch 1/500   |  training loss: 19092572.156  |  val_loss: 2.199  |  val_rmse: 1.483  |  val_mae: 1.132  |  took 15.506 sec\n",
            "Epoch 2/500   |  training loss: 17724529.728  |  val_loss: 2.048  |  val_rmse: 1.431  |  val_mae: 1.090  |  took 8.936 sec\n",
            "Epoch 3/500   |  training loss: 16910945.991  |  val_loss: 1.958  |  val_rmse: 1.399  |  val_mae: 1.064  |  took 6.650 sec\n",
            "Epoch 4/500   |  training loss: 16360033.927  |  val_loss: 1.898  |  val_rmse: 1.378  |  val_mae: 1.046  |  took 6.704 sec\n",
            "Epoch 5/500   |  training loss: 15961807.863  |  val_loss: 1.854  |  val_rmse: 1.362  |  val_mae: 1.033  |  took 8.310 sec\n",
            "Epoch 6/500   |  training loss: 15661142.230  |  val_loss: 1.821  |  val_rmse: 1.349  |  val_mae: 1.023  |  took 6.686 sec\n",
            "Epoch 7/500   |  training loss: 15426572.048  |  val_loss: 1.795  |  val_rmse: 1.340  |  val_mae: 1.015  |  took 6.701 sec\n",
            "Epoch 8/500   |  training loss: 15238617.361  |  val_loss: 1.775  |  val_rmse: 1.332  |  val_mae: 1.008  |  took 6.734 sec\n",
            "Epoch 9/500   |  training loss: 15084461.942  |  val_loss: 1.758  |  val_rmse: 1.326  |  val_mae: 1.003  |  took 6.666 sec\n",
            "Epoch 10/500  |  training loss: 14955228.917  |  val_loss: 1.745  |  val_rmse: 1.321  |  val_mae: 0.999  |  took 6.705 sec\n",
            "Epoch 11/500  |  training loss: 14844468.245  |  val_loss: 1.733  |  val_rmse: 1.316  |  val_mae: 0.995  |  took 6.711 sec\n",
            "Epoch 12/500  |  training loss: 14747265.215  |  val_loss: 1.723  |  val_rmse: 1.312  |  val_mae: 0.992  |  took 6.699 sec\n",
            "Epoch 13/500  |  training loss: 14659695.916  |  val_loss: 1.713  |  val_rmse: 1.309  |  val_mae: 0.989  |  took 6.669 sec\n",
            "Epoch 14/500  |  training loss: 14578499.385  |  val_loss: 1.705  |  val_rmse: 1.306  |  val_mae: 0.986  |  took 6.650 sec\n",
            "Epoch 15/500  |  training loss: 14500908.367  |  val_loss: 1.697  |  val_rmse: 1.303  |  val_mae: 0.984  |  took 7.309 sec\n",
            "Epoch 16/500  |  training loss: 14424616.169  |  val_loss: 1.689  |  val_rmse: 1.300  |  val_mae: 0.981  |  took 6.969 sec\n",
            "Epoch 17/500  |  training loss: 14347863.934  |  val_loss: 1.681  |  val_rmse: 1.296  |  val_mae: 0.978  |  took 6.584 sec\n",
            "Epoch 18/500  |  training loss: 14269608.573  |  val_loss: 1.672  |  val_rmse: 1.293  |  val_mae: 0.976  |  took 6.655 sec\n",
            "Epoch 19/500  |  training loss: 14189682.940  |  val_loss: 1.664  |  val_rmse: 1.290  |  val_mae: 0.973  |  took 6.651 sec\n",
            "Epoch 20/500  |  training loss: 14108821.481  |  val_loss: 1.655  |  val_rmse: 1.287  |  val_mae: 0.970  |  took 6.642 sec\n",
            "Epoch 21/500  |  training loss: 14028454.524  |  val_loss: 1.647  |  val_rmse: 1.283  |  val_mae: 0.967  |  took 6.612 sec\n",
            "Epoch 22/500  |  training loss: 13950294.704  |  val_loss: 1.639  |  val_rmse: 1.280  |  val_mae: 0.965  |  took 6.703 sec\n",
            "Epoch 23/500  |  training loss: 13875875.351  |  val_loss: 1.631  |  val_rmse: 1.277  |  val_mae: 0.962  |  took 6.755 sec\n",
            "Epoch 24/500  |  training loss: 13806231.162  |  val_loss: 1.623  |  val_rmse: 1.274  |  val_mae: 0.960  |  took 6.887 sec\n",
            "Epoch 25/500  |  training loss: 13741808.617  |  val_loss: 1.616  |  val_rmse: 1.271  |  val_mae: 0.958  |  took 6.702 sec\n",
            "Epoch 26/500  |  training loss: 13682559.413  |  val_loss: 1.610  |  val_rmse: 1.269  |  val_mae: 0.956  |  took 6.732 sec\n",
            "Epoch 27/500  |  training loss: 13628109.761  |  val_loss: 1.604  |  val_rmse: 1.267  |  val_mae: 0.954  |  took 6.677 sec\n",
            "Epoch 28/500  |  training loss: 13577919.675  |  val_loss: 1.599  |  val_rmse: 1.265  |  val_mae: 0.952  |  took 6.689 sec\n",
            "Epoch 29/500  |  training loss: 13531395.726  |  val_loss: 1.594  |  val_rmse: 1.263  |  val_mae: 0.950  |  took 7.105 sec\n",
            "Epoch 30/500  |  training loss: 13487956.609  |  val_loss: 1.590  |  val_rmse: 1.261  |  val_mae: 0.949  |  took 7.848 sec\n",
            "Epoch 31/500  |  training loss: 13447064.871  |  val_loss: 1.586  |  val_rmse: 1.259  |  val_mae: 0.948  |  took 6.668 sec\n",
            "Epoch 32/500  |  training loss: 13408238.767  |  val_loss: 1.582  |  val_rmse: 1.258  |  val_mae: 0.946  |  took 6.628 sec\n",
            "Epoch 33/500  |  training loss: 13371054.140  |  val_loss: 1.578  |  val_rmse: 1.256  |  val_mae: 0.945  |  took 6.694 sec\n",
            "Epoch 34/500  |  training loss: 13335142.179  |  val_loss: 1.574  |  val_rmse: 1.255  |  val_mae: 0.944  |  took 6.664 sec\n",
            "Epoch 35/500  |  training loss: 13300185.985  |  val_loss: 1.570  |  val_rmse: 1.253  |  val_mae: 0.943  |  took 6.674 sec\n",
            "Epoch 36/500  |  training loss: 13265917.233  |  val_loss: 1.567  |  val_rmse: 1.252  |  val_mae: 0.941  |  took 6.692 sec\n",
            "Epoch 37/500  |  training loss: 13232113.256  |  val_loss: 1.563  |  val_rmse: 1.250  |  val_mae: 0.940  |  took 6.751 sec\n",
            "Epoch 38/500  |  training loss: 13198594.488  |  val_loss: 1.560  |  val_rmse: 1.249  |  val_mae: 0.939  |  took 6.759 sec\n",
            "Epoch 39/500  |  training loss: 13165221.971  |  val_loss: 1.557  |  val_rmse: 1.248  |  val_mae: 0.938  |  took 6.703 sec\n",
            "Epoch 40/500  |  training loss: 13131894.667  |  val_loss: 1.553  |  val_rmse: 1.246  |  val_mae: 0.937  |  took 6.701 sec\n",
            "Epoch 41/500  |  training loss: 13098546.312  |  val_loss: 1.550  |  val_rmse: 1.245  |  val_mae: 0.936  |  took 6.680 sec\n",
            "Epoch 42/500  |  training loss: 13065141.722  |  val_loss: 1.546  |  val_rmse: 1.243  |  val_mae: 0.935  |  took 7.010 sec\n",
            "Epoch 43/500  |  training loss: 13031672.546  |  val_loss: 1.543  |  val_rmse: 1.242  |  val_mae: 0.934  |  took 7.561 sec\n",
            "Epoch 44/500  |  training loss: 12998152.584  |  val_loss: 1.539  |  val_rmse: 1.241  |  val_mae: 0.933  |  took 6.786 sec\n",
            "Epoch 45/500  |  training loss: 12964612.880  |  val_loss: 1.536  |  val_rmse: 1.239  |  val_mae: 0.932  |  took 6.756 sec\n",
            "Epoch 46/500  |  training loss: 12931096.819  |  val_loss: 1.532  |  val_rmse: 1.238  |  val_mae: 0.931  |  took 6.727 sec\n",
            "Epoch 47/500  |  training loss: 12897655.493  |  val_loss: 1.529  |  val_rmse: 1.237  |  val_mae: 0.929  |  took 6.830 sec\n",
            "Epoch 48/500  |  training loss: 12864343.511  |  val_loss: 1.526  |  val_rmse: 1.235  |  val_mae: 0.928  |  took 6.799 sec\n",
            "Epoch 49/500  |  training loss: 12831215.446  |  val_loss: 1.522  |  val_rmse: 1.234  |  val_mae: 0.927  |  took 6.807 sec\n",
            "Epoch 50/500  |  training loss: 12798322.980  |  val_loss: 1.519  |  val_rmse: 1.232  |  val_mae: 0.926  |  took 6.879 sec\n",
            "Epoch 51/500  |  training loss: 12765712.806  |  val_loss: 1.516  |  val_rmse: 1.231  |  val_mae: 0.925  |  took 6.805 sec\n",
            "Epoch 52/500  |  training loss: 12733425.229  |  val_loss: 1.512  |  val_rmse: 1.230  |  val_mae: 0.924  |  took 6.841 sec\n",
            "Epoch 53/500  |  training loss: 12701493.422  |  val_loss: 1.509  |  val_rmse: 1.228  |  val_mae: 0.923  |  took 6.911 sec\n",
            "Epoch 54/500  |  training loss: 12669943.225  |  val_loss: 1.506  |  val_rmse: 1.227  |  val_mae: 0.922  |  took 8.897 sec\n",
            "Epoch 55/500  |  training loss: 12638793.371  |  val_loss: 1.503  |  val_rmse: 1.226  |  val_mae: 0.921  |  took 6.916 sec\n",
            "Epoch 56/500  |  training loss: 12608056.037  |  val_loss: 1.500  |  val_rmse: 1.225  |  val_mae: 0.920  |  took 6.897 sec\n",
            "Epoch 57/500  |  training loss: 12577737.603  |  val_loss: 1.497  |  val_rmse: 1.223  |  val_mae: 0.919  |  took 6.842 sec\n",
            "Epoch 58/500  |  training loss: 12547839.527  |  val_loss: 1.494  |  val_rmse: 1.222  |  val_mae: 0.918  |  took 6.901 sec\n",
            "Epoch 59/500  |  training loss: 12518359.266  |  val_loss: 1.491  |  val_rmse: 1.221  |  val_mae: 0.917  |  took 6.965 sec\n",
            "Epoch 60/500  |  training loss: 12489291.176  |  val_loss: 1.488  |  val_rmse: 1.220  |  val_mae: 0.916  |  took 6.887 sec\n",
            "Epoch 61/500  |  training loss: 12460627.347  |  val_loss: 1.485  |  val_rmse: 1.219  |  val_mae: 0.915  |  took 6.820 sec\n",
            "Epoch 62/500  |  training loss: 12432358.355  |  val_loss: 1.483  |  val_rmse: 1.218  |  val_mae: 0.915  |  took 6.746 sec\n",
            "Epoch 63/500  |  training loss: 12404473.895  |  val_loss: 1.480  |  val_rmse: 1.217  |  val_mae: 0.914  |  took 6.870 sec\n",
            "Epoch 64/500  |  training loss: 12376963.308  |  val_loss: 1.477  |  val_rmse: 1.215  |  val_mae: 0.913  |  took 6.728 sec\n",
            "Epoch 65/500  |  training loss: 12349815.986  |  val_loss: 1.475  |  val_rmse: 1.214  |  val_mae: 0.912  |  took 6.687 sec\n",
            "Epoch 66/500  |  training loss: 12323021.674  |  val_loss: 1.472  |  val_rmse: 1.213  |  val_mae: 0.911  |  took 6.693 sec\n",
            "Epoch 67/500  |  training loss: 12296570.673  |  val_loss: 1.470  |  val_rmse: 1.212  |  val_mae: 0.910  |  took 6.850 sec\n",
            "Epoch 68/500  |  training loss: 12270453.961  |  val_loss: 1.467  |  val_rmse: 1.211  |  val_mae: 0.909  |  took 6.949 sec\n",
            "Epoch 69/500  |  training loss: 12244663.247  |  val_loss: 1.465  |  val_rmse: 1.210  |  val_mae: 0.909  |  took 6.813 sec\n",
            "Epoch 70/500  |  training loss: 12219190.968  |  val_loss: 1.463  |  val_rmse: 1.209  |  val_mae: 0.908  |  took 6.900 sec\n",
            "Epoch 71/500  |  training loss: 12194030.253  |  val_loss: 1.460  |  val_rmse: 1.208  |  val_mae: 0.907  |  took 6.907 sec\n",
            "Epoch 72/500  |  training loss: 12169174.856  |  val_loss: 1.458  |  val_rmse: 1.208  |  val_mae: 0.906  |  took 6.890 sec\n",
            "Epoch 73/500  |  training loss: 12144619.074  |  val_loss: 1.456  |  val_rmse: 1.207  |  val_mae: 0.906  |  took 6.811 sec\n",
            "Epoch 74/500  |  training loss: 12120357.662  |  val_loss: 1.454  |  val_rmse: 1.206  |  val_mae: 0.905  |  took 6.789 sec\n",
            "Epoch 75/500  |  training loss: 12096385.747  |  val_loss: 1.452  |  val_rmse: 1.205  |  val_mae: 0.904  |  took 6.917 sec\n",
            "Epoch 76/500  |  training loss: 12072698.746  |  val_loss: 1.449  |  val_rmse: 1.204  |  val_mae: 0.903  |  took 6.815 sec\n",
            "Epoch 77/500  |  training loss: 12049292.292  |  val_loss: 1.447  |  val_rmse: 1.203  |  val_mae: 0.903  |  took 6.775 sec\n",
            "Epoch 78/500  |  training loss: 12026162.171  |  val_loss: 1.445  |  val_rmse: 1.202  |  val_mae: 0.902  |  took 8.575 sec\n",
            "Epoch 79/500  |  training loss: 12003304.273  |  val_loss: 1.443  |  val_rmse: 1.201  |  val_mae: 0.901  |  took 6.890 sec\n",
            "Epoch 80/500  |  training loss: 11980714.546  |  val_loss: 1.441  |  val_rmse: 1.201  |  val_mae: 0.901  |  took 6.750 sec\n",
            "Epoch 81/500  |  training loss: 11958388.968  |  val_loss: 1.440  |  val_rmse: 1.200  |  val_mae: 0.900  |  took 6.695 sec\n",
            "Epoch 82/500  |  training loss: 11936323.521  |  val_loss: 1.438  |  val_rmse: 1.199  |  val_mae: 0.899  |  took 6.606 sec\n",
            "Epoch 83/500  |  training loss: 11914514.173  |  val_loss: 1.436  |  val_rmse: 1.198  |  val_mae: 0.899  |  took 6.649 sec\n",
            "Epoch 84/500  |  training loss: 11892956.870  |  val_loss: 1.434  |  val_rmse: 1.198  |  val_mae: 0.898  |  took 6.644 sec\n",
            "Epoch 85/500  |  training loss: 11871647.531  |  val_loss: 1.432  |  val_rmse: 1.197  |  val_mae: 0.897  |  took 6.677 sec\n",
            "Epoch 86/500  |  training loss: 11850582.041  |  val_loss: 1.431  |  val_rmse: 1.196  |  val_mae: 0.897  |  took 6.625 sec\n",
            "Epoch 87/500  |  training loss: 11829756.259  |  val_loss: 1.429  |  val_rmse: 1.195  |  val_mae: 0.896  |  took 6.631 sec\n",
            "Epoch 88/500  |  training loss: 11809166.015  |  val_loss: 1.427  |  val_rmse: 1.195  |  val_mae: 0.896  |  took 6.658 sec\n",
            "Epoch 89/500  |  training loss: 11788807.116  |  val_loss: 1.425  |  val_rmse: 1.194  |  val_mae: 0.895  |  took 6.638 sec\n",
            "Epoch 90/500  |  training loss: 11768675.356  |  val_loss: 1.424  |  val_rmse: 1.193  |  val_mae: 0.894  |  took 6.563 sec\n",
            "Epoch 91/500  |  training loss: 11748766.518  |  val_loss: 1.422  |  val_rmse: 1.193  |  val_mae: 0.894  |  took 6.598 sec\n",
            "Epoch 92/500  |  training loss: 11729076.385  |  val_loss: 1.421  |  val_rmse: 1.192  |  val_mae: 0.893  |  took 6.630 sec\n",
            "Epoch 93/500  |  training loss: 11709600.747  |  val_loss: 1.419  |  val_rmse: 1.191  |  val_mae: 0.893  |  took 6.692 sec\n",
            "Epoch 94/500  |  training loss: 11690335.411  |  val_loss: 1.418  |  val_rmse: 1.191  |  val_mae: 0.892  |  took 6.654 sec\n",
            "Epoch 95/500  |  training loss: 11671276.209  |  val_loss: 1.416  |  val_rmse: 1.190  |  val_mae: 0.892  |  took 6.698 sec\n",
            "Epoch 96/500  |  training loss: 11652419.005  |  val_loss: 1.415  |  val_rmse: 1.189  |  val_mae: 0.891  |  took 6.624 sec\n",
            "Epoch 97/500  |  training loss: 11633759.709  |  val_loss: 1.413  |  val_rmse: 1.189  |  val_mae: 0.891  |  took 6.659 sec\n",
            "Epoch 98/500  |  training loss: 11615294.282  |  val_loss: 1.412  |  val_rmse: 1.188  |  val_mae: 0.890  |  took 6.638 sec\n",
            "Epoch 99/500  |  training loss: 11597018.747  |  val_loss: 1.411  |  val_rmse: 1.188  |  val_mae: 0.890  |  took 6.668 sec\n",
            "Epoch 100/500 |  training loss: 11578929.196  |  val_loss: 1.409  |  val_rmse: 1.187  |  val_mae: 0.889  |  took 6.685 sec\n",
            "Epoch 101/500 |  training loss: 11561021.796  |  val_loss: 1.408  |  val_rmse: 1.187  |  val_mae: 0.889  |  took 6.650 sec\n",
            "Epoch 102/500 |  training loss: 11543292.800  |  val_loss: 1.407  |  val_rmse: 1.186  |  val_mae: 0.888  |  took 8.387 sec\n",
            "Epoch 103/500 |  training loss: 11525738.552  |  val_loss: 1.405  |  val_rmse: 1.185  |  val_mae: 0.888  |  took 6.624 sec\n",
            "Epoch 104/500 |  training loss: 11508355.491  |  val_loss: 1.404  |  val_rmse: 1.185  |  val_mae: 0.887  |  took 6.669 sec\n",
            "Epoch 105/500 |  training loss: 11491140.158  |  val_loss: 1.403  |  val_rmse: 1.184  |  val_mae: 0.887  |  took 6.638 sec\n",
            "Epoch 106/500 |  training loss: 11474089.198  |  val_loss: 1.402  |  val_rmse: 1.184  |  val_mae: 0.887  |  took 6.715 sec\n",
            "Epoch 107/500 |  training loss: 11457199.365  |  val_loss: 1.400  |  val_rmse: 1.183  |  val_mae: 0.886  |  took 6.702 sec\n",
            "Epoch 108/500 |  training loss: 11440467.523  |  val_loss: 1.399  |  val_rmse: 1.183  |  val_mae: 0.886  |  took 6.631 sec\n",
            "Epoch 109/500 |  training loss: 11423890.647  |  val_loss: 1.398  |  val_rmse: 1.182  |  val_mae: 0.885  |  took 6.643 sec\n",
            "Epoch 110/500 |  training loss: 11407465.828  |  val_loss: 1.397  |  val_rmse: 1.182  |  val_mae: 0.885  |  took 6.686 sec\n",
            "Epoch 111/500 |  training loss: 11391190.266  |  val_loss: 1.396  |  val_rmse: 1.181  |  val_mae: 0.884  |  took 6.752 sec\n",
            "Epoch 112/500 |  training loss: 11375061.274  |  val_loss: 1.395  |  val_rmse: 1.181  |  val_mae: 0.884  |  took 6.784 sec\n",
            "Epoch 113/500 |  training loss: 11359076.275  |  val_loss: 1.393  |  val_rmse: 1.180  |  val_mae: 0.884  |  took 6.783 sec\n",
            "Epoch 114/500 |  training loss: 11343232.802  |  val_loss: 1.392  |  val_rmse: 1.180  |  val_mae: 0.883  |  took 6.735 sec\n",
            "Epoch 115/500 |  training loss: 11327528.493  |  val_loss: 1.391  |  val_rmse: 1.180  |  val_mae: 0.883  |  took 6.684 sec\n",
            "Epoch 116/500 |  training loss: 11311961.088  |  val_loss: 1.390  |  val_rmse: 1.179  |  val_mae: 0.883  |  took 6.692 sec\n",
            "Epoch 117/500 |  training loss: 11296528.428  |  val_loss: 1.389  |  val_rmse: 1.179  |  val_mae: 0.882  |  took 6.736 sec\n",
            "Epoch 118/500 |  training loss: 11281228.451  |  val_loss: 1.388  |  val_rmse: 1.178  |  val_mae: 0.882  |  took 6.803 sec\n",
            "Epoch 119/500 |  training loss: 11266059.189  |  val_loss: 1.387  |  val_rmse: 1.178  |  val_mae: 0.881  |  took 6.708 sec\n",
            "Epoch 120/500 |  training loss: 11251018.759  |  val_loss: 1.386  |  val_rmse: 1.177  |  val_mae: 0.881  |  took 6.774 sec\n",
            "Epoch 121/500 |  training loss: 11236105.366  |  val_loss: 1.385  |  val_rmse: 1.177  |  val_mae: 0.881  |  took 6.689 sec\n",
            "Epoch 122/500 |  training loss: 11221317.296  |  val_loss: 1.384  |  val_rmse: 1.177  |  val_mae: 0.880  |  took 6.608 sec\n",
            "Epoch 123/500 |  training loss: 11206652.911  |  val_loss: 1.383  |  val_rmse: 1.176  |  val_mae: 0.880  |  took 6.637 sec\n",
            "Epoch 124/500 |  training loss: 11192110.645  |  val_loss: 1.382  |  val_rmse: 1.176  |  val_mae: 0.880  |  took 6.653 sec\n",
            "Epoch 125/500 |  training loss: 11177689.002  |  val_loss: 1.381  |  val_rmse: 1.175  |  val_mae: 0.879  |  took 6.624 sec\n",
            "Epoch 126/500 |  training loss: 11163386.552  |  val_loss: 1.380  |  val_rmse: 1.175  |  val_mae: 0.879  |  took 7.701 sec\n",
            "Epoch 127/500 |  training loss: 11149201.922  |  val_loss: 1.380  |  val_rmse: 1.175  |  val_mae: 0.879  |  took 7.158 sec\n",
            "Epoch 128/500 |  training loss: 11135133.799  |  val_loss: 1.379  |  val_rmse: 1.174  |  val_mae: 0.878  |  took 6.701 sec\n",
            "Epoch 129/500 |  training loss: 11121180.924  |  val_loss: 1.378  |  val_rmse: 1.174  |  val_mae: 0.878  |  took 6.672 sec\n",
            "Epoch 130/500 |  training loss: 11107342.087  |  val_loss: 1.377  |  val_rmse: 1.173  |  val_mae: 0.878  |  took 6.669 sec\n",
            "Epoch 131/500 |  training loss: 11093616.124  |  val_loss: 1.376  |  val_rmse: 1.173  |  val_mae: 0.878  |  took 6.664 sec\n",
            "Epoch 132/500 |  training loss: 11080001.916  |  val_loss: 1.375  |  val_rmse: 1.173  |  val_mae: 0.877  |  took 8.403 sec\n",
            "Epoch 133/500 |  training loss: 11066498.383  |  val_loss: 1.374  |  val_rmse: 1.172  |  val_mae: 0.877  |  took 6.677 sec\n",
            "Epoch 134/500 |  training loss: 11053104.484  |  val_loss: 1.374  |  val_rmse: 1.172  |  val_mae: 0.877  |  took 6.614 sec\n",
            "Epoch 135/500 |  training loss: 11039819.212  |  val_loss: 1.373  |  val_rmse: 1.172  |  val_mae: 0.876  |  took 6.630 sec\n",
            "Epoch 136/500 |  training loss: 11026641.590  |  val_loss: 1.372  |  val_rmse: 1.171  |  val_mae: 0.876  |  took 6.654 sec\n",
            "Epoch 137/500 |  training loss: 11013570.676  |  val_loss: 1.371  |  val_rmse: 1.171  |  val_mae: 0.876  |  took 6.725 sec\n",
            "Epoch 138/500 |  training loss: 11000605.550  |  val_loss: 1.371  |  val_rmse: 1.171  |  val_mae: 0.876  |  took 6.860 sec\n",
            "Epoch 139/500 |  training loss: 10987745.321  |  val_loss: 1.370  |  val_rmse: 1.170  |  val_mae: 0.875  |  took 6.746 sec\n",
            "Epoch 140/500 |  training loss: 10974989.119  |  val_loss: 1.369  |  val_rmse: 1.170  |  val_mae: 0.875  |  took 6.759 sec\n",
            "Epoch 141/500 |  training loss: 10962336.097  |  val_loss: 1.368  |  val_rmse: 1.170  |  val_mae: 0.875  |  took 6.732 sec\n",
            "Epoch 142/500 |  training loss: 10949785.428  |  val_loss: 1.368  |  val_rmse: 1.169  |  val_mae: 0.874  |  took 6.736 sec\n",
            "Epoch 143/500 |  training loss: 10937336.300  |  val_loss: 1.367  |  val_rmse: 1.169  |  val_mae: 0.874  |  took 6.682 sec\n",
            "Epoch 144/500 |  training loss: 10924987.922  |  val_loss: 1.366  |  val_rmse: 1.169  |  val_mae: 0.874  |  took 6.647 sec\n",
            "Epoch 145/500 |  training loss: 10912739.516  |  val_loss: 1.365  |  val_rmse: 1.169  |  val_mae: 0.874  |  took 6.729 sec\n",
            "Epoch 146/500 |  training loss: 10900590.317  |  val_loss: 1.365  |  val_rmse: 1.168  |  val_mae: 0.873  |  took 6.725 sec\n",
            "Epoch 147/500 |  training loss: 10888539.575  |  val_loss: 1.364  |  val_rmse: 1.168  |  val_mae: 0.873  |  took 6.753 sec\n",
            "Epoch 148/500 |  training loss: 10876586.551  |  val_loss: 1.363  |  val_rmse: 1.168  |  val_mae: 0.873  |  took 6.710 sec\n",
            "Epoch 149/500 |  training loss: 10864730.517  |  val_loss: 1.363  |  val_rmse: 1.167  |  val_mae: 0.873  |  took 6.761 sec\n",
            "Epoch 150/500 |  training loss: 10852970.755  |  val_loss: 1.362  |  val_rmse: 1.167  |  val_mae: 0.872  |  took 7.553 sec\n",
            "Epoch 151/500 |  training loss: 10841306.556  |  val_loss: 1.361  |  val_rmse: 1.167  |  val_mae: 0.872  |  took 7.667 sec\n",
            "Epoch 152/500 |  training loss: 10829737.220  |  val_loss: 1.361  |  val_rmse: 1.167  |  val_mae: 0.872  |  took 6.867 sec\n",
            "Epoch 153/500 |  training loss: 10818262.055  |  val_loss: 1.360  |  val_rmse: 1.166  |  val_mae: 0.872  |  took 6.810 sec\n",
            "Epoch 154/500 |  training loss: 10806880.375  |  val_loss: 1.360  |  val_rmse: 1.166  |  val_mae: 0.871  |  took 6.804 sec\n",
            "Epoch 155/500 |  training loss: 10795591.503  |  val_loss: 1.359  |  val_rmse: 1.166  |  val_mae: 0.871  |  took 6.847 sec\n",
            "Epoch 156/500 |  training loss: 10784394.767  |  val_loss: 1.358  |  val_rmse: 1.165  |  val_mae: 0.871  |  took 6.930 sec\n",
            "Epoch 157/500 |  training loss: 10773289.502  |  val_loss: 1.358  |  val_rmse: 1.165  |  val_mae: 0.871  |  took 6.816 sec\n",
            "Epoch 158/500 |  training loss: 10762275.046  |  val_loss: 1.357  |  val_rmse: 1.165  |  val_mae: 0.871  |  took 6.839 sec\n",
            "Epoch 159/500 |  training loss: 10751350.746  |  val_loss: 1.357  |  val_rmse: 1.165  |  val_mae: 0.870  |  took 6.812 sec\n",
            "Epoch 160/500 |  training loss: 10740515.952  |  val_loss: 1.356  |  val_rmse: 1.164  |  val_mae: 0.870  |  took 6.787 sec\n",
            "Epoch 161/500 |  training loss: 10729770.019  |  val_loss: 1.355  |  val_rmse: 1.164  |  val_mae: 0.870  |  took 6.741 sec\n",
            "Epoch 162/500 |  training loss: 10719112.307  |  val_loss: 1.355  |  val_rmse: 1.164  |  val_mae: 0.870  |  took 6.723 sec\n",
            "Epoch 163/500 |  training loss: 10708542.180  |  val_loss: 1.354  |  val_rmse: 1.164  |  val_mae: 0.870  |  took 6.755 sec\n",
            "Epoch 164/500 |  training loss: 10698059.005  |  val_loss: 1.354  |  val_rmse: 1.164  |  val_mae: 0.869  |  took 6.880 sec\n",
            "Epoch 165/500 |  training loss: 10687662.157  |  val_loss: 1.353  |  val_rmse: 1.163  |  val_mae: 0.869  |  took 6.999 sec\n",
            "Epoch 166/500 |  training loss: 10677351.009  |  val_loss: 1.353  |  val_rmse: 1.163  |  val_mae: 0.869  |  took 6.853 sec\n",
            "Epoch 167/500 |  training loss: 10667124.944  |  val_loss: 1.352  |  val_rmse: 1.163  |  val_mae: 0.869  |  took 6.923 sec\n",
            "Epoch 168/500 |  training loss: 10656983.344  |  val_loss: 1.352  |  val_rmse: 1.163  |  val_mae: 0.869  |  took 6.776 sec\n",
            "Epoch 169/500 |  training loss: 10646925.596  |  val_loss: 1.351  |  val_rmse: 1.162  |  val_mae: 0.868  |  took 6.746 sec\n",
            "Epoch 170/500 |  training loss: 10636951.093  |  val_loss: 1.351  |  val_rmse: 1.162  |  val_mae: 0.868  |  took 6.801 sec\n",
            "Epoch 171/500 |  training loss: 10627059.226  |  val_loss: 1.350  |  val_rmse: 1.162  |  val_mae: 0.868  |  took 6.838 sec\n",
            "Epoch 172/500 |  training loss: 10617249.395  |  val_loss: 1.350  |  val_rmse: 1.162  |  val_mae: 0.868  |  took 6.716 sec\n",
            "Epoch 173/500 |  training loss: 10607521.000  |  val_loss: 1.349  |  val_rmse: 1.162  |  val_mae: 0.868  |  took 6.818 sec\n",
            "Epoch 174/500 |  training loss: 10597873.445  |  val_loss: 1.349  |  val_rmse: 1.161  |  val_mae: 0.867  |  took 6.908 sec\n",
            "Epoch 175/500 |  training loss: 10588306.136  |  val_loss: 1.348  |  val_rmse: 1.161  |  val_mae: 0.867  |  took 8.335 sec\n",
            "Epoch 176/500 |  training loss: 10578818.485  |  val_loss: 1.348  |  val_rmse: 1.161  |  val_mae: 0.867  |  took 6.756 sec\n",
            "Epoch 177/500 |  training loss: 10569409.903  |  val_loss: 1.347  |  val_rmse: 1.161  |  val_mae: 0.867  |  took 6.810 sec\n",
            "Epoch 178/500 |  training loss: 10560079.808  |  val_loss: 1.347  |  val_rmse: 1.161  |  val_mae: 0.867  |  took 6.756 sec\n",
            "Epoch 179/500 |  training loss: 10550827.617  |  val_loss: 1.347  |  val_rmse: 1.160  |  val_mae: 0.867  |  took 6.722 sec\n",
            "Epoch 180/500 |  training loss: 10541652.753  |  val_loss: 1.346  |  val_rmse: 1.160  |  val_mae: 0.866  |  took 6.799 sec\n",
            "Epoch 181/500 |  training loss: 10532554.640  |  val_loss: 1.346  |  val_rmse: 1.160  |  val_mae: 0.866  |  took 6.821 sec\n",
            "Epoch 182/500 |  training loss: 10523532.704  |  val_loss: 1.345  |  val_rmse: 1.160  |  val_mae: 0.866  |  took 6.821 sec\n",
            "Epoch 183/500 |  training loss: 10514586.377  |  val_loss: 1.345  |  val_rmse: 1.160  |  val_mae: 0.866  |  took 6.809 sec\n",
            "Epoch 184/500 |  training loss: 10505715.089  |  val_loss: 1.344  |  val_rmse: 1.159  |  val_mae: 0.866  |  took 6.850 sec\n",
            "Epoch 185/500 |  training loss: 10496918.277  |  val_loss: 1.344  |  val_rmse: 1.159  |  val_mae: 0.866  |  took 6.829 sec\n",
            "Epoch 186/500 |  training loss: 10488195.378  |  val_loss: 1.344  |  val_rmse: 1.159  |  val_mae: 0.865  |  took 6.861 sec\n",
            "Epoch 187/500 |  training loss: 10479545.830  |  val_loss: 1.343  |  val_rmse: 1.159  |  val_mae: 0.865  |  took 6.819 sec\n",
            "Epoch 188/500 |  training loss: 10470969.078  |  val_loss: 1.343  |  val_rmse: 1.159  |  val_mae: 0.865  |  took 6.754 sec\n",
            "Epoch 189/500 |  training loss: 10462464.565  |  val_loss: 1.342  |  val_rmse: 1.159  |  val_mae: 0.865  |  took 6.708 sec\n",
            "Epoch 190/500 |  training loss: 10454031.738  |  val_loss: 1.342  |  val_rmse: 1.158  |  val_mae: 0.865  |  took 6.721 sec\n",
            "Epoch 191/500 |  training loss: 10445670.048  |  val_loss: 1.342  |  val_rmse: 1.158  |  val_mae: 0.865  |  took 6.733 sec\n",
            "Epoch 192/500 |  training loss: 10437378.944  |  val_loss: 1.341  |  val_rmse: 1.158  |  val_mae: 0.865  |  took 6.702 sec\n",
            "Epoch 193/500 |  training loss: 10429157.883  |  val_loss: 1.341  |  val_rmse: 1.158  |  val_mae: 0.864  |  took 6.711 sec\n",
            "Epoch 194/500 |  training loss: 10421006.318  |  val_loss: 1.341  |  val_rmse: 1.158  |  val_mae: 0.864  |  took 6.735 sec\n",
            "Epoch 195/500 |  training loss: 10412923.709  |  val_loss: 1.340  |  val_rmse: 1.158  |  val_mae: 0.864  |  took 6.693 sec\n",
            "Epoch 196/500 |  training loss: 10404909.517  |  val_loss: 1.340  |  val_rmse: 1.158  |  val_mae: 0.864  |  took 6.641 sec\n",
            "Epoch 197/500 |  training loss: 10396963.203  |  val_loss: 1.340  |  val_rmse: 1.157  |  val_mae: 0.864  |  took 6.690 sec\n",
            "Epoch 198/500 |  training loss: 10389084.233  |  val_loss: 1.339  |  val_rmse: 1.157  |  val_mae: 0.864  |  took 6.717 sec\n",
            "Epoch 199/500 |  training loss: 10381272.073  |  val_loss: 1.339  |  val_rmse: 1.157  |  val_mae: 0.864  |  took 8.557 sec\n",
            "Epoch 200/500 |  training loss: 10373526.192  |  val_loss: 1.339  |  val_rmse: 1.157  |  val_mae: 0.864  |  took 6.732 sec\n",
            "Epoch 201/500 |  training loss: 10365846.062  |  val_loss: 1.338  |  val_rmse: 1.157  |  val_mae: 0.863  |  took 6.652 sec\n",
            "Epoch 202/500 |  training loss: 10358231.155  |  val_loss: 1.338  |  val_rmse: 1.157  |  val_mae: 0.863  |  took 6.709 sec\n",
            "Epoch 203/500 |  training loss: 10350680.947  |  val_loss: 1.338  |  val_rmse: 1.157  |  val_mae: 0.863  |  took 6.734 sec\n",
            "Epoch 204/500 |  training loss: 10343194.916  |  val_loss: 1.337  |  val_rmse: 1.156  |  val_mae: 0.863  |  took 6.750 sec\n",
            "Epoch 205/500 |  training loss: 10335772.540  |  val_loss: 1.337  |  val_rmse: 1.156  |  val_mae: 0.863  |  took 6.759 sec\n",
            "Epoch 206/500 |  training loss: 10328413.301  |  val_loss: 1.337  |  val_rmse: 1.156  |  val_mae: 0.863  |  took 6.834 sec\n",
            "Epoch 207/500 |  training loss: 10321116.683  |  val_loss: 1.336  |  val_rmse: 1.156  |  val_mae: 0.863  |  took 6.733 sec\n",
            "Epoch 208/500 |  training loss: 10313882.171  |  val_loss: 1.336  |  val_rmse: 1.156  |  val_mae: 0.863  |  took 6.745 sec\n",
            "Epoch 209/500 |  training loss: 10306709.255  |  val_loss: 1.336  |  val_rmse: 1.156  |  val_mae: 0.862  |  took 6.693 sec\n",
            "Epoch 210/500 |  training loss: 10299597.422  |  val_loss: 1.335  |  val_rmse: 1.156  |  val_mae: 0.862  |  took 6.689 sec\n",
            "Epoch 211/500 |  training loss: 10292546.167  |  val_loss: 1.335  |  val_rmse: 1.155  |  val_mae: 0.862  |  took 6.818 sec\n",
            "Epoch 212/500 |  training loss: 10285554.983  |  val_loss: 1.335  |  val_rmse: 1.155  |  val_mae: 0.862  |  took 6.770 sec\n",
            "Epoch 213/500 |  training loss: 10278623.367  |  val_loss: 1.335  |  val_rmse: 1.155  |  val_mae: 0.862  |  took 6.701 sec\n",
            "Epoch 214/500 |  training loss: 10271750.818  |  val_loss: 1.334  |  val_rmse: 1.155  |  val_mae: 0.862  |  took 6.660 sec\n",
            "Epoch 215/500 |  training loss: 10264936.837  |  val_loss: 1.334  |  val_rmse: 1.155  |  val_mae: 0.862  |  took 6.707 sec\n",
            "Epoch 216/500 |  training loss: 10258180.927  |  val_loss: 1.334  |  val_rmse: 1.155  |  val_mae: 0.862  |  took 6.753 sec\n",
            "Epoch 217/500 |  training loss: 10251482.593  |  val_loss: 1.333  |  val_rmse: 1.155  |  val_mae: 0.862  |  took 6.789 sec\n",
            "Epoch 218/500 |  training loss: 10244841.345  |  val_loss: 1.333  |  val_rmse: 1.155  |  val_mae: 0.861  |  took 6.686 sec\n",
            "Epoch 219/500 |  training loss: 10238256.692  |  val_loss: 1.333  |  val_rmse: 1.155  |  val_mae: 0.861  |  took 6.661 sec\n",
            "Epoch 220/500 |  training loss: 10231728.146  |  val_loss: 1.333  |  val_rmse: 1.154  |  val_mae: 0.861  |  took 6.703 sec\n",
            "Epoch 221/500 |  training loss: 10225255.223  |  val_loss: 1.332  |  val_rmse: 1.154  |  val_mae: 0.861  |  took 6.685 sec\n",
            "Epoch 222/500 |  training loss: 10218837.441  |  val_loss: 1.332  |  val_rmse: 1.154  |  val_mae: 0.861  |  took 6.661 sec\n",
            "Epoch 223/500 |  training loss: 10212474.319  |  val_loss: 1.332  |  val_rmse: 1.154  |  val_mae: 0.861  |  took 8.264 sec\n",
            "Epoch 224/500 |  training loss: 10206165.380  |  val_loss: 1.332  |  val_rmse: 1.154  |  val_mae: 0.861  |  took 6.655 sec\n",
            "Epoch 225/500 |  training loss: 10199910.149  |  val_loss: 1.331  |  val_rmse: 1.154  |  val_mae: 0.861  |  took 6.676 sec\n",
            "Epoch 226/500 |  training loss: 10193708.153  |  val_loss: 1.331  |  val_rmse: 1.154  |  val_mae: 0.861  |  took 6.665 sec\n",
            "Epoch 227/500 |  training loss: 10187558.922  |  val_loss: 1.331  |  val_rmse: 1.154  |  val_mae: 0.861  |  took 6.697 sec\n",
            "Epoch 228/500 |  training loss: 10181461.989  |  val_loss: 1.331  |  val_rmse: 1.154  |  val_mae: 0.861  |  took 6.685 sec\n",
            "Epoch 229/500 |  training loss: 10175416.890  |  val_loss: 1.331  |  val_rmse: 1.154  |  val_mae: 0.860  |  took 6.717 sec\n",
            "Epoch 230/500 |  training loss: 10169423.162  |  val_loss: 1.330  |  val_rmse: 1.153  |  val_mae: 0.860  |  took 6.825 sec\n",
            "Epoch 231/500 |  training loss: 10163480.346  |  val_loss: 1.330  |  val_rmse: 1.153  |  val_mae: 0.860  |  took 6.681 sec\n",
            "Epoch 232/500 |  training loss: 10157587.985  |  val_loss: 1.330  |  val_rmse: 1.153  |  val_mae: 0.860  |  took 6.730 sec\n",
            "Epoch 233/500 |  training loss: 10151745.625  |  val_loss: 1.330  |  val_rmse: 1.153  |  val_mae: 0.860  |  took 6.696 sec\n",
            "Epoch 234/500 |  training loss: 10145952.816  |  val_loss: 1.329  |  val_rmse: 1.153  |  val_mae: 0.860  |  took 6.746 sec\n",
            "Epoch 235/500 |  training loss: 10140209.109  |  val_loss: 1.329  |  val_rmse: 1.153  |  val_mae: 0.860  |  took 6.998 sec\n",
            "Epoch 236/500 |  training loss: 10134514.058  |  val_loss: 1.329  |  val_rmse: 1.153  |  val_mae: 0.860  |  took 6.736 sec\n",
            "Epoch 237/500 |  training loss: 10128867.221  |  val_loss: 1.329  |  val_rmse: 1.153  |  val_mae: 0.860  |  took 6.723 sec\n",
            "Epoch 238/500 |  training loss: 10123268.157  |  val_loss: 1.329  |  val_rmse: 1.153  |  val_mae: 0.860  |  took 6.732 sec\n",
            "Epoch 239/500 |  training loss: 10117716.431  |  val_loss: 1.328  |  val_rmse: 1.153  |  val_mae: 0.860  |  took 6.778 sec\n",
            "Epoch 240/500 |  training loss: 10112211.607  |  val_loss: 1.328  |  val_rmse: 1.153  |  val_mae: 0.860  |  took 6.774 sec\n",
            "Epoch 241/500 |  training loss: 10106753.255  |  val_loss: 1.328  |  val_rmse: 1.152  |  val_mae: 0.860  |  took 6.730 sec\n",
            "Epoch 242/500 |  training loss: 10101340.947  |  val_loss: 1.328  |  val_rmse: 1.152  |  val_mae: 0.859  |  took 6.710 sec\n",
            "Epoch 243/500 |  training loss: 10095974.257  |  val_loss: 1.328  |  val_rmse: 1.152  |  val_mae: 0.859  |  took 6.746 sec\n",
            "Epoch 244/500 |  training loss: 10090652.763  |  val_loss: 1.328  |  val_rmse: 1.152  |  val_mae: 0.859  |  took 6.718 sec\n",
            "Epoch 245/500 |  training loss: 10085376.046  |  val_loss: 1.327  |  val_rmse: 1.152  |  val_mae: 0.859  |  took 6.709 sec\n",
            "Epoch 246/500 |  training loss: 10080143.690  |  val_loss: 1.327  |  val_rmse: 1.152  |  val_mae: 0.859  |  took 6.672 sec\n",
            "Epoch 247/500 |  training loss: 10074955.281  |  val_loss: 1.327  |  val_rmse: 1.152  |  val_mae: 0.859  |  took 6.598 sec\n",
            "Epoch 248/500 |  training loss: 10069810.409  |  val_loss: 1.327  |  val_rmse: 1.152  |  val_mae: 0.859  |  took 8.442 sec\n",
            "Epoch 249/500 |  training loss: 10064708.668  |  val_loss: 1.327  |  val_rmse: 1.152  |  val_mae: 0.859  |  took 6.624 sec\n",
            "Epoch 250/500 |  training loss: 10059649.652  |  val_loss: 1.326  |  val_rmse: 1.152  |  val_mae: 0.859  |  took 6.709 sec\n",
            "Epoch 251/500 |  training loss: 10054632.962  |  val_loss: 1.326  |  val_rmse: 1.152  |  val_mae: 0.859  |  took 6.678 sec\n",
            "Epoch 252/500 |  training loss: 10049658.199  |  val_loss: 1.326  |  val_rmse: 1.152  |  val_mae: 0.859  |  took 6.713 sec\n",
            "Epoch 253/500 |  training loss: 10044724.969  |  val_loss: 1.326  |  val_rmse: 1.152  |  val_mae: 0.859  |  took 6.634 sec\n",
            "Epoch 254/500 |  training loss: 10039832.879  |  val_loss: 1.326  |  val_rmse: 1.151  |  val_mae: 0.859  |  took 6.701 sec\n",
            "Epoch 255/500 |  training loss: 10034981.542  |  val_loss: 1.326  |  val_rmse: 1.151  |  val_mae: 0.859  |  took 6.661 sec\n",
            "Epoch 256/500 |  training loss: 10030170.571  |  val_loss: 1.326  |  val_rmse: 1.151  |  val_mae: 0.859  |  took 6.717 sec\n",
            "Epoch 257/500 |  training loss: 10025399.584  |  val_loss: 1.325  |  val_rmse: 1.151  |  val_mae: 0.858  |  took 6.643 sec\n",
            "Epoch 258/500 |  training loss: 10020668.202  |  val_loss: 1.325  |  val_rmse: 1.151  |  val_mae: 0.858  |  took 6.667 sec\n",
            "Epoch 259/500 |  training loss: 10015976.049  |  val_loss: 1.325  |  val_rmse: 1.151  |  val_mae: 0.858  |  took 6.710 sec\n",
            "Epoch 260/500 |  training loss: 10011322.752  |  val_loss: 1.325  |  val_rmse: 1.151  |  val_mae: 0.858  |  took 6.674 sec\n",
            "Epoch 261/500 |  training loss: 10006707.940  |  val_loss: 1.325  |  val_rmse: 1.151  |  val_mae: 0.858  |  took 6.694 sec\n",
            "Epoch 262/500 |  training loss: 10002131.248  |  val_loss: 1.325  |  val_rmse: 1.151  |  val_mae: 0.858  |  took 6.619 sec\n",
            "Epoch 263/500 |  training loss: 9997592.311  |  val_loss: 1.324  |  val_rmse: 1.151  |  val_mae: 0.858  |  took 6.653 sec\n",
            "Epoch 264/500 |  training loss: 9993090.768  |  val_loss: 1.324  |  val_rmse: 1.151  |  val_mae: 0.858  |  took 6.693 sec\n",
            "Epoch 265/500 |  training loss: 9988626.263  |  val_loss: 1.324  |  val_rmse: 1.151  |  val_mae: 0.858  |  took 6.701 sec\n",
            "Epoch 266/500 |  training loss: 9984198.440  |  val_loss: 1.324  |  val_rmse: 1.151  |  val_mae: 0.858  |  took 6.669 sec\n",
            "Epoch 267/500 |  training loss: 9979806.949  |  val_loss: 1.324  |  val_rmse: 1.151  |  val_mae: 0.858  |  took 6.618 sec\n",
            "Epoch 268/500 |  training loss: 9975451.441  |  val_loss: 1.324  |  val_rmse: 1.151  |  val_mae: 0.858  |  took 6.647 sec\n",
            "Epoch 269/500 |  training loss: 9971131.571  |  val_loss: 1.324  |  val_rmse: 1.151  |  val_mae: 0.858  |  took 6.637 sec\n",
            "Epoch 270/500 |  training loss: 9966846.997  |  val_loss: 1.324  |  val_rmse: 1.150  |  val_mae: 0.858  |  took 6.739 sec\n",
            "Epoch 271/500 |  training loss: 9962597.381  |  val_loss: 1.323  |  val_rmse: 1.150  |  val_mae: 0.858  |  took 6.722 sec\n",
            "Epoch 272/500 |  training loss: 9958382.385  |  val_loss: 1.323  |  val_rmse: 1.150  |  val_mae: 0.858  |  took 7.685 sec\n",
            "Epoch 273/500 |  training loss: 9954201.678  |  val_loss: 1.323  |  val_rmse: 1.150  |  val_mae: 0.858  |  took 7.231 sec\n",
            "Epoch 274/500 |  training loss: 9950054.930  |  val_loss: 1.323  |  val_rmse: 1.150  |  val_mae: 0.858  |  took 6.732 sec\n",
            "Epoch 275/500 |  training loss: 9945941.813  |  val_loss: 1.323  |  val_rmse: 1.150  |  val_mae: 0.857  |  took 6.684 sec\n",
            "Epoch 276/500 |  training loss: 9941862.004  |  val_loss: 1.323  |  val_rmse: 1.150  |  val_mae: 0.857  |  took 6.650 sec\n",
            "Epoch 277/500 |  training loss: 9937815.182  |  val_loss: 1.323  |  val_rmse: 1.150  |  val_mae: 0.857  |  took 6.673 sec\n",
            "Epoch 278/500 |  training loss: 9933801.030  |  val_loss: 1.323  |  val_rmse: 1.150  |  val_mae: 0.857  |  took 6.682 sec\n",
            "Epoch 279/500 |  training loss: 9929819.232  |  val_loss: 1.322  |  val_rmse: 1.150  |  val_mae: 0.857  |  took 6.756 sec\n",
            "Epoch 280/500 |  training loss: 9925869.477  |  val_loss: 1.322  |  val_rmse: 1.150  |  val_mae: 0.857  |  took 6.708 sec\n",
            "Epoch 281/500 |  training loss: 9921951.456  |  val_loss: 1.322  |  val_rmse: 1.150  |  val_mae: 0.857  |  took 6.710 sec\n",
            "Epoch 282/500 |  training loss: 9918064.863  |  val_loss: 1.322  |  val_rmse: 1.150  |  val_mae: 0.857  |  took 6.672 sec\n",
            "Epoch 283/500 |  training loss: 9914209.394  |  val_loss: 1.322  |  val_rmse: 1.150  |  val_mae: 0.857  |  took 6.711 sec\n",
            "Epoch 284/500 |  training loss: 9910384.750  |  val_loss: 1.322  |  val_rmse: 1.150  |  val_mae: 0.857  |  took 6.664 sec\n",
            "Epoch 285/500 |  training loss: 9906590.634  |  val_loss: 1.322  |  val_rmse: 1.150  |  val_mae: 0.857  |  took 6.684 sec\n",
            "Epoch 286/500 |  training loss: 9902826.751  |  val_loss: 1.322  |  val_rmse: 1.150  |  val_mae: 0.857  |  took 6.708 sec\n",
            "Epoch 287/500 |  training loss: 9899092.809  |  val_loss: 1.322  |  val_rmse: 1.150  |  val_mae: 0.857  |  took 6.699 sec\n",
            "Epoch 288/500 |  training loss: 9895388.520  |  val_loss: 1.322  |  val_rmse: 1.150  |  val_mae: 0.857  |  took 6.763 sec\n",
            "Epoch 289/500 |  training loss: 9891713.599  |  val_loss: 1.321  |  val_rmse: 1.150  |  val_mae: 0.857  |  took 6.693 sec\n",
            "Epoch 290/500 |  training loss: 9888067.761  |  val_loss: 1.321  |  val_rmse: 1.149  |  val_mae: 0.857  |  took 6.788 sec\n",
            "Epoch 291/500 |  training loss: 9884450.727  |  val_loss: 1.321  |  val_rmse: 1.149  |  val_mae: 0.857  |  took 6.727 sec\n",
            "Epoch 292/500 |  training loss: 9880862.220  |  val_loss: 1.321  |  val_rmse: 1.149  |  val_mae: 0.857  |  took 6.673 sec\n",
            "Epoch 293/500 |  training loss: 9877301.963  |  val_loss: 1.321  |  val_rmse: 1.149  |  val_mae: 0.857  |  took 6.686 sec\n",
            "Epoch 294/500 |  training loss: 9873769.687  |  val_loss: 1.321  |  val_rmse: 1.149  |  val_mae: 0.857  |  took 6.638 sec\n",
            "Epoch 295/500 |  training loss: 9870265.120  |  val_loss: 1.321  |  val_rmse: 1.149  |  val_mae: 0.857  |  took 6.700 sec\n",
            "Epoch 296/500 |  training loss: 9866787.997  |  val_loss: 1.321  |  val_rmse: 1.149  |  val_mae: 0.857  |  took 6.720 sec\n",
            "Epoch 297/500 |  training loss: 9863338.054  |  val_loss: 1.321  |  val_rmse: 1.149  |  val_mae: 0.857  |  took 8.584 sec\n",
            "Epoch 298/500 |  training loss: 9859915.029  |  val_loss: 1.321  |  val_rmse: 1.149  |  val_mae: 0.856  |  took 6.694 sec\n",
            "Epoch 299/500 |  training loss: 9856518.663  |  val_loss: 1.320  |  val_rmse: 1.149  |  val_mae: 0.856  |  took 6.711 sec\n",
            "Epoch 300/500 |  training loss: 9853148.701  |  val_loss: 1.320  |  val_rmse: 1.149  |  val_mae: 0.856  |  took 6.696 sec\n",
            "Epoch 301/500 |  training loss: 9849804.890  |  val_loss: 1.320  |  val_rmse: 1.149  |  val_mae: 0.856  |  took 6.752 sec\n",
            "Epoch 302/500 |  training loss: 9846486.977  |  val_loss: 1.320  |  val_rmse: 1.149  |  val_mae: 0.856  |  took 6.650 sec\n",
            "Epoch 303/500 |  training loss: 9843194.716  |  val_loss: 1.320  |  val_rmse: 1.149  |  val_mae: 0.856  |  took 6.658 sec\n",
            "Epoch 304/500 |  training loss: 9839927.859  |  val_loss: 1.320  |  val_rmse: 1.149  |  val_mae: 0.856  |  took 6.622 sec\n",
            "Epoch 305/500 |  training loss: 9836686.164  |  val_loss: 1.320  |  val_rmse: 1.149  |  val_mae: 0.856  |  took 6.732 sec\n",
            "Epoch 306/500 |  training loss: 9833469.391  |  val_loss: 1.320  |  val_rmse: 1.149  |  val_mae: 0.856  |  took 6.716 sec\n",
            "Epoch 307/500 |  training loss: 9830277.299  |  val_loss: 1.320  |  val_rmse: 1.149  |  val_mae: 0.856  |  took 6.714 sec\n",
            "Epoch 308/500 |  training loss: 9827109.655  |  val_loss: 1.320  |  val_rmse: 1.149  |  val_mae: 0.856  |  took 6.676 sec\n",
            "Epoch 309/500 |  training loss: 9823966.224  |  val_loss: 1.320  |  val_rmse: 1.149  |  val_mae: 0.856  |  took 6.633 sec\n",
            "Epoch 310/500 |  training loss: 9820846.775  |  val_loss: 1.320  |  val_rmse: 1.149  |  val_mae: 0.856  |  took 6.649 sec\n",
            "Epoch 311/500 |  training loss: 9817751.079  |  val_loss: 1.320  |  val_rmse: 1.149  |  val_mae: 0.856  |  took 6.646 sec\n",
            "Epoch 312/500 |  training loss: 9814678.911  |  val_loss: 1.319  |  val_rmse: 1.149  |  val_mae: 0.856  |  took 6.656 sec\n",
            "Epoch 313/500 |  training loss: 9811630.046  |  val_loss: 1.319  |  val_rmse: 1.149  |  val_mae: 0.856  |  took 6.644 sec\n",
            "Epoch 314/500 |  training loss: 9808604.262  |  val_loss: 1.319  |  val_rmse: 1.149  |  val_mae: 0.856  |  took 6.659 sec\n",
            "Epoch 315/500 |  training loss: 9805601.341  |  val_loss: 1.319  |  val_rmse: 1.149  |  val_mae: 0.856  |  took 6.617 sec\n",
            "Epoch 316/500 |  training loss: 9802621.064  |  val_loss: 1.319  |  val_rmse: 1.149  |  val_mae: 0.856  |  took 6.632 sec\n",
            "Epoch 317/500 |  training loss: 9799663.218  |  val_loss: 1.319  |  val_rmse: 1.149  |  val_mae: 0.856  |  took 6.659 sec\n",
            "Epoch 318/500 |  training loss: 9796727.590  |  val_loss: 1.319  |  val_rmse: 1.148  |  val_mae: 0.856  |  took 6.723 sec\n",
            "Epoch 319/500 |  training loss: 9793813.969  |  val_loss: 1.319  |  val_rmse: 1.148  |  val_mae: 0.856  |  took 6.667 sec\n",
            "Epoch 320/500 |  training loss: 9790922.147  |  val_loss: 1.319  |  val_rmse: 1.148  |  val_mae: 0.856  |  took 6.623 sec\n",
            "Epoch 321/500 |  training loss: 9788051.918  |  val_loss: 1.319  |  val_rmse: 1.148  |  val_mae: 0.856  |  took 6.716 sec\n",
            "Epoch 322/500 |  training loss: 9785203.078  |  val_loss: 1.319  |  val_rmse: 1.148  |  val_mae: 0.856  |  took 8.409 sec\n",
            "Epoch 323/500 |  training loss: 9782375.426  |  val_loss: 1.319  |  val_rmse: 1.148  |  val_mae: 0.856  |  took 6.773 sec\n",
            "Epoch 324/500 |  training loss: 9779568.762  |  val_loss: 1.319  |  val_rmse: 1.148  |  val_mae: 0.856  |  took 6.822 sec\n",
            "Epoch 325/500 |  training loss: 9776782.889  |  val_loss: 1.319  |  val_rmse: 1.148  |  val_mae: 0.856  |  took 6.750 sec\n",
            "Epoch 326/500 |  training loss: 9774017.610  |  val_loss: 1.319  |  val_rmse: 1.148  |  val_mae: 0.856  |  took 6.757 sec\n",
            "Epoch 327/500 |  training loss: 9771272.733  |  val_loss: 1.318  |  val_rmse: 1.148  |  val_mae: 0.856  |  took 6.720 sec\n",
            "Epoch 328/500 |  training loss: 9768548.066  |  val_loss: 1.318  |  val_rmse: 1.148  |  val_mae: 0.856  |  took 6.748 sec\n",
            "Epoch 329/500 |  training loss: 9765843.420  |  val_loss: 1.318  |  val_rmse: 1.148  |  val_mae: 0.856  |  took 6.621 sec\n",
            "Epoch 330/500 |  training loss: 9763158.608  |  val_loss: 1.318  |  val_rmse: 1.148  |  val_mae: 0.855  |  took 6.662 sec\n",
            "Epoch 331/500 |  training loss: 9760493.444  |  val_loss: 1.318  |  val_rmse: 1.148  |  val_mae: 0.855  |  took 6.635 sec\n",
            "Epoch 332/500 |  training loss: 9757847.745  |  val_loss: 1.318  |  val_rmse: 1.148  |  val_mae: 0.855  |  took 6.713 sec\n",
            "Epoch 333/500 |  training loss: 9755221.328  |  val_loss: 1.318  |  val_rmse: 1.148  |  val_mae: 0.855  |  took 6.679 sec\n",
            "Epoch 334/500 |  training loss: 9752614.016  |  val_loss: 1.318  |  val_rmse: 1.148  |  val_mae: 0.855  |  took 6.777 sec\n",
            "Epoch 335/500 |  training loss: 9750025.629  |  val_loss: 1.318  |  val_rmse: 1.148  |  val_mae: 0.855  |  took 6.797 sec\n",
            "Epoch 336/500 |  training loss: 9747455.992  |  val_loss: 1.318  |  val_rmse: 1.148  |  val_mae: 0.855  |  took 6.778 sec\n",
            "Epoch 337/500 |  training loss: 9744904.932  |  val_loss: 1.318  |  val_rmse: 1.148  |  val_mae: 0.855  |  took 6.823 sec\n",
            "Epoch 338/500 |  training loss: 9742372.275  |  val_loss: 1.318  |  val_rmse: 1.148  |  val_mae: 0.855  |  took 6.774 sec\n",
            "Epoch 339/500 |  training loss: 9739857.852  |  val_loss: 1.318  |  val_rmse: 1.148  |  val_mae: 0.855  |  took 6.758 sec\n",
            "Epoch 340/500 |  training loss: 9737361.493  |  val_loss: 1.318  |  val_rmse: 1.148  |  val_mae: 0.855  |  took 6.725 sec\n",
            "Epoch 341/500 |  training loss: 9734883.034  |  val_loss: 1.318  |  val_rmse: 1.148  |  val_mae: 0.855  |  took 6.717 sec\n",
            "Epoch 342/500 |  training loss: 9732422.307  |  val_loss: 1.318  |  val_rmse: 1.148  |  val_mae: 0.855  |  took 6.800 sec\n",
            "Epoch 343/500 |  training loss: 9729979.150  |  val_loss: 1.318  |  val_rmse: 1.148  |  val_mae: 0.855  |  took 6.746 sec\n",
            "Epoch 344/500 |  training loss: 9727553.402  |  val_loss: 1.318  |  val_rmse: 1.148  |  val_mae: 0.855  |  took 6.779 sec\n",
            "Epoch 345/500 |  training loss: 9725144.902  |  val_loss: 1.318  |  val_rmse: 1.148  |  val_mae: 0.855  |  took 6.749 sec\n",
            "Epoch 346/500 |  training loss: 9722753.493  |  val_loss: 1.318  |  val_rmse: 1.148  |  val_mae: 0.855  |  took 8.376 sec\n",
            "Epoch 347/500 |  training loss: 9720379.018  |  val_loss: 1.317  |  val_rmse: 1.148  |  val_mae: 0.855  |  took 6.704 sec\n",
            "Epoch 348/500 |  training loss: 9718021.322  |  val_loss: 1.317  |  val_rmse: 1.148  |  val_mae: 0.855  |  took 6.645 sec\n",
            "Epoch 349/500 |  training loss: 9715680.251  |  val_loss: 1.317  |  val_rmse: 1.148  |  val_mae: 0.855  |  took 6.651 sec\n",
            "Epoch 350/500 |  training loss: 9713355.655  |  val_loss: 1.317  |  val_rmse: 1.148  |  val_mae: 0.855  |  took 6.729 sec\n",
            "Epoch 351/500 |  training loss: 9711047.383  |  val_loss: 1.317  |  val_rmse: 1.148  |  val_mae: 0.855  |  took 6.641 sec\n",
            "Epoch 352/500 |  training loss: 9708755.287  |  val_loss: 1.317  |  val_rmse: 1.148  |  val_mae: 0.855  |  took 6.788 sec\n",
            "Epoch 353/500 |  training loss: 9706479.220  |  val_loss: 1.317  |  val_rmse: 1.148  |  val_mae: 0.855  |  took 6.817 sec\n",
            "Epoch 354/500 |  training loss: 9704219.037  |  val_loss: 1.317  |  val_rmse: 1.148  |  val_mae: 0.855  |  took 6.806 sec\n",
            "Epoch 355/500 |  training loss: 9701974.593  |  val_loss: 1.317  |  val_rmse: 1.148  |  val_mae: 0.855  |  took 6.810 sec\n",
            "Epoch 356/500 |  training loss: 9699745.747  |  val_loss: 1.317  |  val_rmse: 1.148  |  val_mae: 0.855  |  took 6.700 sec\n",
            "Epoch 357/500 |  training loss: 9697532.358  |  val_loss: 1.317  |  val_rmse: 1.148  |  val_mae: 0.855  |  took 6.713 sec\n",
            "Epoch 358/500 |  training loss: 9695334.286  |  val_loss: 1.317  |  val_rmse: 1.148  |  val_mae: 0.855  |  took 6.735 sec\n",
            "Epoch 359/500 |  training loss: 9693151.393  |  val_loss: 1.317  |  val_rmse: 1.148  |  val_mae: 0.855  |  took 6.724 sec\n",
            "Epoch 360/500 |  training loss: 9690983.544  |  val_loss: 1.317  |  val_rmse: 1.148  |  val_mae: 0.855  |  took 6.726 sec\n",
            "Epoch 361/500 |  training loss: 9688830.603  |  val_loss: 1.317  |  val_rmse: 1.148  |  val_mae: 0.855  |  took 6.694 sec\n",
            "Epoch 362/500 |  training loss: 9686692.437  |  val_loss: 1.317  |  val_rmse: 1.148  |  val_mae: 0.855  |  took 6.771 sec\n",
            "Epoch 363/500 |  training loss: 9684568.913  |  val_loss: 1.317  |  val_rmse: 1.148  |  val_mae: 0.855  |  took 6.794 sec\n",
            "Epoch 364/500 |  training loss: 9682459.900  |  val_loss: 1.317  |  val_rmse: 1.148  |  val_mae: 0.855  |  took 6.643 sec\n",
            "Epoch 365/500 |  training loss: 9680365.271  |  val_loss: 1.317  |  val_rmse: 1.148  |  val_mae: 0.855  |  took 6.746 sec\n",
            "Epoch 366/500 |  training loss: 9678284.895  |  val_loss: 1.317  |  val_rmse: 1.147  |  val_mae: 0.855  |  took 6.682 sec\n",
            "Epoch 367/500 |  training loss: 9676218.646  |  val_loss: 1.317  |  val_rmse: 1.147  |  val_mae: 0.855  |  took 6.746 sec\n",
            "Epoch 368/500 |  training loss: 9674166.400  |  val_loss: 1.317  |  val_rmse: 1.147  |  val_mae: 0.855  |  took 6.771 sec\n",
            "Epoch 369/500 |  training loss: 9672128.032  |  val_loss: 1.317  |  val_rmse: 1.147  |  val_mae: 0.855  |  took 6.711 sec\n",
            "Epoch 370/500 |  training loss: 9670103.419  |  val_loss: 1.317  |  val_rmse: 1.147  |  val_mae: 0.855  |  took 7.296 sec\n",
            "Epoch 371/500 |  training loss: 9668092.440  |  val_loss: 1.317  |  val_rmse: 1.147  |  val_mae: 0.855  |  took 7.607 sec\n",
            "Epoch 372/500 |  training loss: 9666094.974  |  val_loss: 1.317  |  val_rmse: 1.147  |  val_mae: 0.855  |  took 6.663 sec\n",
            "Epoch 373/500 |  training loss: 9664110.903  |  val_loss: 1.317  |  val_rmse: 1.147  |  val_mae: 0.855  |  took 6.678 sec\n",
            "Epoch 374/500 |  training loss: 9662140.108  |  val_loss: 1.316  |  val_rmse: 1.147  |  val_mae: 0.855  |  took 6.667 sec\n",
            "Epoch 375/500 |  training loss: 9660182.473  |  val_loss: 1.316  |  val_rmse: 1.147  |  val_mae: 0.855  |  took 6.625 sec\n",
            "Epoch 376/500 |  training loss: 9658237.883  |  val_loss: 1.316  |  val_rmse: 1.147  |  val_mae: 0.855  |  took 6.724 sec\n",
            "Epoch 377/500 |  training loss: 9656306.224  |  val_loss: 1.316  |  val_rmse: 1.147  |  val_mae: 0.855  |  took 6.650 sec\n",
            "Epoch 378/500 |  training loss: 9654387.382  |  val_loss: 1.316  |  val_rmse: 1.147  |  val_mae: 0.855  |  took 6.662 sec\n",
            "Epoch 379/500 |  training loss: 9652481.247  |  val_loss: 1.316  |  val_rmse: 1.147  |  val_mae: 0.855  |  took 6.731 sec\n",
            "Epoch 380/500 |  training loss: 9650587.706  |  val_loss: 1.316  |  val_rmse: 1.147  |  val_mae: 0.855  |  took 6.686 sec\n",
            "Epoch 381/500 |  training loss: 9648706.651  |  val_loss: 1.316  |  val_rmse: 1.147  |  val_mae: 0.855  |  took 6.641 sec\n",
            "Epoch 382/500 |  training loss: 9646837.974  |  val_loss: 1.316  |  val_rmse: 1.147  |  val_mae: 0.855  |  took 6.655 sec\n",
            "Epoch 383/500 |  training loss: 9644981.567  |  val_loss: 1.316  |  val_rmse: 1.147  |  val_mae: 0.855  |  took 6.641 sec\n",
            "Epoch 384/500 |  training loss: 9643137.324  |  val_loss: 1.316  |  val_rmse: 1.147  |  val_mae: 0.855  |  took 6.628 sec\n",
            "Epoch 385/500 |  training loss: 9641305.140  |  val_loss: 1.316  |  val_rmse: 1.147  |  val_mae: 0.855  |  took 6.692 sec\n",
            "Epoch 386/500 |  training loss: 9639484.911  |  val_loss: 1.316  |  val_rmse: 1.147  |  val_mae: 0.855  |  took 6.613 sec\n",
            "Epoch 387/500 |  training loss: 9637676.534  |  val_loss: 1.316  |  val_rmse: 1.147  |  val_mae: 0.855  |  took 6.655 sec\n",
            "Epoch 388/500 |  training loss: 9635879.907  |  val_loss: 1.316  |  val_rmse: 1.147  |  val_mae: 0.854  |  took 6.719 sec\n",
            "Epoch 389/500 |  training loss: 9634094.929  |  val_loss: 1.316  |  val_rmse: 1.147  |  val_mae: 0.854  |  took 6.692 sec\n",
            "Epoch 390/500 |  training loss: 9632321.502  |  val_loss: 1.316  |  val_rmse: 1.147  |  val_mae: 0.854  |  took 6.676 sec\n",
            "Epoch 391/500 |  training loss: 9630559.525  |  val_loss: 1.316  |  val_rmse: 1.147  |  val_mae: 0.854  |  took 6.668 sec\n",
            "Epoch 392/500 |  training loss: 9628808.902  |  val_loss: 1.316  |  val_rmse: 1.147  |  val_mae: 0.854  |  took 6.621 sec\n",
            "Epoch 393/500 |  training loss: 9627069.535  |  val_loss: 1.316  |  val_rmse: 1.147  |  val_mae: 0.854  |  took 6.657 sec\n",
            "Epoch 394/500 |  training loss: 9625341.329  |  val_loss: 1.316  |  val_rmse: 1.147  |  val_mae: 0.854  |  took 6.695 sec\n",
            "Epoch 395/500 |  training loss: 9623624.188  |  val_loss: 1.316  |  val_rmse: 1.147  |  val_mae: 0.854  |  took 8.437 sec\n",
            "Epoch 396/500 |  training loss: 9621918.020  |  val_loss: 1.316  |  val_rmse: 1.147  |  val_mae: 0.854  |  took 6.785 sec\n",
            "Epoch 397/500 |  training loss: 9620222.731  |  val_loss: 1.316  |  val_rmse: 1.147  |  val_mae: 0.854  |  took 6.899 sec\n",
            "Epoch 398/500 |  training loss: 9618538.230  |  val_loss: 1.316  |  val_rmse: 1.147  |  val_mae: 0.854  |  took 6.995 sec\n",
            "Epoch 399/500 |  training loss: 9616864.425  |  val_loss: 1.316  |  val_rmse: 1.147  |  val_mae: 0.854  |  took 6.901 sec\n",
            "Epoch 400/500 |  training loss: 9615201.226  |  val_loss: 1.316  |  val_rmse: 1.147  |  val_mae: 0.854  |  took 6.874 sec\n",
            "Epoch 401/500 |  training loss: 9613548.544  |  val_loss: 1.316  |  val_rmse: 1.147  |  val_mae: 0.854  |  took 6.683 sec\n",
            "Epoch 402/500 |  training loss: 9611906.292  |  val_loss: 1.316  |  val_rmse: 1.147  |  val_mae: 0.854  |  took 6.756 sec\n",
            "Epoch 403/500 |  training loss: 9610274.380  |  val_loss: 1.316  |  val_rmse: 1.147  |  val_mae: 0.854  |  took 6.729 sec\n",
            "Epoch 404/500 |  training loss: 9608652.724  |  val_loss: 1.316  |  val_rmse: 1.147  |  val_mae: 0.854  |  took 6.637 sec\n",
            "Epoch 405/500 |  training loss: 9607041.238  |  val_loss: 1.316  |  val_rmse: 1.147  |  val_mae: 0.854  |  took 6.673 sec\n",
            "Epoch 406/500 |  training loss: 9605439.836  |  val_loss: 1.316  |  val_rmse: 1.147  |  val_mae: 0.854  |  took 6.687 sec\n",
            "Epoch 407/500 |  training loss: 9603848.434  |  val_loss: 1.316  |  val_rmse: 1.147  |  val_mae: 0.854  |  took 6.711 sec\n",
            "Epoch 408/500 |  training loss: 9602266.951  |  val_loss: 1.316  |  val_rmse: 1.147  |  val_mae: 0.854  |  took 6.603 sec\n",
            "Epoch 409/500 |  training loss: 9600695.303  |  val_loss: 1.316  |  val_rmse: 1.147  |  val_mae: 0.854  |  took 6.638 sec\n",
            "Epoch 410/500 |  training loss: 9599133.409  |  val_loss: 1.316  |  val_rmse: 1.147  |  val_mae: 0.854  |  took 6.652 sec\n",
            "Epoch 411/500 |  training loss: 9597581.189  |  val_loss: 1.316  |  val_rmse: 1.147  |  val_mae: 0.854  |  took 6.669 sec\n",
            "Epoch 412/500 |  training loss: 9596038.563  |  val_loss: 1.316  |  val_rmse: 1.147  |  val_mae: 0.854  |  took 6.687 sec\n",
            "Epoch 413/500 |  training loss: 9594505.451  |  val_loss: 1.316  |  val_rmse: 1.147  |  val_mae: 0.854  |  took 6.642 sec\n",
            "Epoch 414/500 |  training loss: 9592981.776  |  val_loss: 1.316  |  val_rmse: 1.147  |  val_mae: 0.854  |  took 6.642 sec\n",
            "Epoch 415/500 |  training loss: 9591467.460  |  val_loss: 1.316  |  val_rmse: 1.147  |  val_mae: 0.854  |  took 6.657 sec\n",
            "Epoch 416/500 |  training loss: 9589962.427  |  val_loss: 1.316  |  val_rmse: 1.147  |  val_mae: 0.854  |  took 6.700 sec\n",
            "Epoch 417/500 |  training loss: 9588466.600  |  val_loss: 1.316  |  val_rmse: 1.147  |  val_mae: 0.854  |  took 6.652 sec\n",
            "Epoch 418/500 |  training loss: 9586979.904  |  val_loss: 1.316  |  val_rmse: 1.147  |  val_mae: 0.854  |  took 6.654 sec\n",
            "Epoch 419/500 |  training loss: 9585502.266  |  val_loss: 1.316  |  val_rmse: 1.147  |  val_mae: 0.854  |  took 7.360 sec\n",
            "Epoch 420/500 |  training loss: 9584033.611  |  val_loss: 1.316  |  val_rmse: 1.147  |  val_mae: 0.854  |  took 7.608 sec\n",
            "Epoch 421/500 |  training loss: 9582573.867  |  val_loss: 1.315  |  val_rmse: 1.147  |  val_mae: 0.854  |  took 6.750 sec\n",
            "Epoch 422/500 |  training loss: 9581122.960  |  val_loss: 1.315  |  val_rmse: 1.147  |  val_mae: 0.854  |  took 6.686 sec\n",
            "Epoch 423/500 |  training loss: 9579680.821  |  val_loss: 1.315  |  val_rmse: 1.147  |  val_mae: 0.854  |  took 6.750 sec\n",
            "Epoch 424/500 |  training loss: 9578247.378  |  val_loss: 1.315  |  val_rmse: 1.147  |  val_mae: 0.854  |  took 6.801 sec\n",
            "Epoch 425/500 |  training loss: 9576822.560  |  val_loss: 1.315  |  val_rmse: 1.147  |  val_mae: 0.854  |  took 6.811 sec\n",
            "Epoch 426/500 |  training loss: 9575406.299  |  val_loss: 1.315  |  val_rmse: 1.147  |  val_mae: 0.854  |  took 6.723 sec\n",
            "Epoch 427/500 |  training loss: 9573998.525  |  val_loss: 1.315  |  val_rmse: 1.147  |  val_mae: 0.854  |  took 6.688 sec\n",
            "Epoch 428/500 |  training loss: 9572599.171  |  val_loss: 1.315  |  val_rmse: 1.147  |  val_mae: 0.854  |  took 6.649 sec\n",
            "Epoch 429/500 |  training loss: 9571208.169  |  val_loss: 1.315  |  val_rmse: 1.147  |  val_mae: 0.854  |  took 6.693 sec\n",
            "Epoch 430/500 |  training loss: 9569825.453  |  val_loss: 1.315  |  val_rmse: 1.147  |  val_mae: 0.854  |  took 6.690 sec\n",
            "Epoch 431/500 |  training loss: 9568450.956  |  val_loss: 1.315  |  val_rmse: 1.147  |  val_mae: 0.854  |  took 6.599 sec\n",
            "Epoch 432/500 |  training loss: 9567084.613  |  val_loss: 1.315  |  val_rmse: 1.147  |  val_mae: 0.854  |  took 6.708 sec\n",
            "Epoch 433/500 |  training loss: 9565726.359  |  val_loss: 1.315  |  val_rmse: 1.147  |  val_mae: 0.854  |  took 6.651 sec\n",
            "Epoch 434/500 |  training loss: 9564376.130  |  val_loss: 1.315  |  val_rmse: 1.147  |  val_mae: 0.854  |  took 6.721 sec\n",
            "Epoch 435/500 |  training loss: 9563033.862  |  val_loss: 1.315  |  val_rmse: 1.147  |  val_mae: 0.854  |  took 6.648 sec\n",
            "Epoch 436/500 |  training loss: 9561699.492  |  val_loss: 1.315  |  val_rmse: 1.147  |  val_mae: 0.854  |  took 6.719 sec\n",
            "Epoch 437/500 |  training loss: 9560372.959  |  val_loss: 1.315  |  val_rmse: 1.147  |  val_mae: 0.854  |  took 6.691 sec\n",
            "Epoch 438/500 |  training loss: 9559054.200  |  val_loss: 1.315  |  val_rmse: 1.147  |  val_mae: 0.854  |  took 6.695 sec\n",
            "Epoch 439/500 |  training loss: 9557743.154  |  val_loss: 1.315  |  val_rmse: 1.147  |  val_mae: 0.854  |  took 6.679 sec\n",
            "Epoch 440/500 |  training loss: 9556439.760  |  val_loss: 1.315  |  val_rmse: 1.147  |  val_mae: 0.854  |  took 6.647 sec\n",
            "\n",
            "Training took 50 min and 7 sec\n"
          ]
        }
      ]
    },
    {
      "cell_type": "code",
      "source": [
        "pred = svd.predict(test_inp, clip=False)\n",
        "rmse = np.sqrt(mean_squared_error(test_inp[:, 2], pred))\n",
        "mae = mean_absolute_error(test_inp[:, 2], pred)\n",
        "\n",
        "print(f'Test MAE: {mae:.3f}')\n",
        "print(f'Test RMSE: {rmse:.3f}')"
      ],
      "metadata": {
        "colab": {
          "base_uri": "https://localhost:8080/"
        },
        "id": "l5LZ9ETEH-Br",
        "outputId": "96952a50-2815-4d7e-d96f-cef08ae62b33"
      },
      "execution_count": null,
      "outputs": [
        {
          "output_type": "stream",
          "name": "stdout",
          "text": [
            "Test MAE: 0.853\n",
            "Test RMSE: 1.149\n"
          ]
        }
      ]
    },
    {
      "cell_type": "code",
      "source": [
        "# Kết quả dự đoán đã lưu vào tệp 'predict_The.csv'\n",
        "\n",
        "save_df = pd.read_csv('predict_The.csv')"
      ],
      "metadata": {
        "id": "IYlb3BGTxjVP"
      },
      "execution_count": 12,
      "outputs": []
    },
    {
      "cell_type": "code",
      "source": [
        "save_df"
      ],
      "metadata": {
        "colab": {
          "base_uri": "https://localhost:8080/",
          "height": 424
        },
        "id": "Xw8xdGtsyzFU",
        "outputId": "2e075b94-a427-447b-dbb1-cc784100a509"
      },
      "execution_count": 8,
      "outputs": [
        {
          "output_type": "execute_result",
          "data": {
            "text/plain": [
              "          i_id     u_id  rating  predicted\n",
              "0            1  1227033       3   8.588545\n",
              "1            1  3891667      10  10.279168\n",
              "2            1   417835       5   7.848932\n",
              "3            1   207589      10   8.587275\n",
              "4            1  2835819       9   7.688177\n",
              "...        ...      ...     ...        ...\n",
              "2299421   5681  7249032       7   8.254513\n",
              "2299422  34599  7249032       9   8.570609\n",
              "2299423     20  7249032       8   8.106166\n",
              "2299424  22319  7249032       7   7.559744\n",
              "2299425   2890  7250030       8   8.323388\n",
              "\n",
              "[2299426 rows x 4 columns]"
            ],
            "text/html": [
              "\n",
              "  <div id=\"df-48621a15-1e77-4dcc-903c-3aedc16c7fe5\">\n",
              "    <div class=\"colab-df-container\">\n",
              "      <div>\n",
              "<style scoped>\n",
              "    .dataframe tbody tr th:only-of-type {\n",
              "        vertical-align: middle;\n",
              "    }\n",
              "\n",
              "    .dataframe tbody tr th {\n",
              "        vertical-align: top;\n",
              "    }\n",
              "\n",
              "    .dataframe thead th {\n",
              "        text-align: right;\n",
              "    }\n",
              "</style>\n",
              "<table border=\"1\" class=\"dataframe\">\n",
              "  <thead>\n",
              "    <tr style=\"text-align: right;\">\n",
              "      <th></th>\n",
              "      <th>i_id</th>\n",
              "      <th>u_id</th>\n",
              "      <th>rating</th>\n",
              "      <th>predicted</th>\n",
              "    </tr>\n",
              "  </thead>\n",
              "  <tbody>\n",
              "    <tr>\n",
              "      <th>0</th>\n",
              "      <td>1</td>\n",
              "      <td>1227033</td>\n",
              "      <td>3</td>\n",
              "      <td>8.588545</td>\n",
              "    </tr>\n",
              "    <tr>\n",
              "      <th>1</th>\n",
              "      <td>1</td>\n",
              "      <td>3891667</td>\n",
              "      <td>10</td>\n",
              "      <td>10.279168</td>\n",
              "    </tr>\n",
              "    <tr>\n",
              "      <th>2</th>\n",
              "      <td>1</td>\n",
              "      <td>417835</td>\n",
              "      <td>5</td>\n",
              "      <td>7.848932</td>\n",
              "    </tr>\n",
              "    <tr>\n",
              "      <th>3</th>\n",
              "      <td>1</td>\n",
              "      <td>207589</td>\n",
              "      <td>10</td>\n",
              "      <td>8.587275</td>\n",
              "    </tr>\n",
              "    <tr>\n",
              "      <th>4</th>\n",
              "      <td>1</td>\n",
              "      <td>2835819</td>\n",
              "      <td>9</td>\n",
              "      <td>7.688177</td>\n",
              "    </tr>\n",
              "    <tr>\n",
              "      <th>...</th>\n",
              "      <td>...</td>\n",
              "      <td>...</td>\n",
              "      <td>...</td>\n",
              "      <td>...</td>\n",
              "    </tr>\n",
              "    <tr>\n",
              "      <th>2299421</th>\n",
              "      <td>5681</td>\n",
              "      <td>7249032</td>\n",
              "      <td>7</td>\n",
              "      <td>8.254513</td>\n",
              "    </tr>\n",
              "    <tr>\n",
              "      <th>2299422</th>\n",
              "      <td>34599</td>\n",
              "      <td>7249032</td>\n",
              "      <td>9</td>\n",
              "      <td>8.570609</td>\n",
              "    </tr>\n",
              "    <tr>\n",
              "      <th>2299423</th>\n",
              "      <td>20</td>\n",
              "      <td>7249032</td>\n",
              "      <td>8</td>\n",
              "      <td>8.106166</td>\n",
              "    </tr>\n",
              "    <tr>\n",
              "      <th>2299424</th>\n",
              "      <td>22319</td>\n",
              "      <td>7249032</td>\n",
              "      <td>7</td>\n",
              "      <td>7.559744</td>\n",
              "    </tr>\n",
              "    <tr>\n",
              "      <th>2299425</th>\n",
              "      <td>2890</td>\n",
              "      <td>7250030</td>\n",
              "      <td>8</td>\n",
              "      <td>8.323388</td>\n",
              "    </tr>\n",
              "  </tbody>\n",
              "</table>\n",
              "<p>2299426 rows × 4 columns</p>\n",
              "</div>\n",
              "      <button class=\"colab-df-convert\" onclick=\"convertToInteractive('df-48621a15-1e77-4dcc-903c-3aedc16c7fe5')\"\n",
              "              title=\"Convert this dataframe to an interactive table.\"\n",
              "              style=\"display:none;\">\n",
              "        \n",
              "  <svg xmlns=\"http://www.w3.org/2000/svg\" height=\"24px\"viewBox=\"0 0 24 24\"\n",
              "       width=\"24px\">\n",
              "    <path d=\"M0 0h24v24H0V0z\" fill=\"none\"/>\n",
              "    <path d=\"M18.56 5.44l.94 2.06.94-2.06 2.06-.94-2.06-.94-.94-2.06-.94 2.06-2.06.94zm-11 1L8.5 8.5l.94-2.06 2.06-.94-2.06-.94L8.5 2.5l-.94 2.06-2.06.94zm10 10l.94 2.06.94-2.06 2.06-.94-2.06-.94-.94-2.06-.94 2.06-2.06.94z\"/><path d=\"M17.41 7.96l-1.37-1.37c-.4-.4-.92-.59-1.43-.59-.52 0-1.04.2-1.43.59L10.3 9.45l-7.72 7.72c-.78.78-.78 2.05 0 2.83L4 21.41c.39.39.9.59 1.41.59.51 0 1.02-.2 1.41-.59l7.78-7.78 2.81-2.81c.8-.78.8-2.07 0-2.86zM5.41 20L4 18.59l7.72-7.72 1.47 1.35L5.41 20z\"/>\n",
              "  </svg>\n",
              "      </button>\n",
              "      \n",
              "  <style>\n",
              "    .colab-df-container {\n",
              "      display:flex;\n",
              "      flex-wrap:wrap;\n",
              "      gap: 12px;\n",
              "    }\n",
              "\n",
              "    .colab-df-convert {\n",
              "      background-color: #E8F0FE;\n",
              "      border: none;\n",
              "      border-radius: 50%;\n",
              "      cursor: pointer;\n",
              "      display: none;\n",
              "      fill: #1967D2;\n",
              "      height: 32px;\n",
              "      padding: 0 0 0 0;\n",
              "      width: 32px;\n",
              "    }\n",
              "\n",
              "    .colab-df-convert:hover {\n",
              "      background-color: #E2EBFA;\n",
              "      box-shadow: 0px 1px 2px rgba(60, 64, 67, 0.3), 0px 1px 3px 1px rgba(60, 64, 67, 0.15);\n",
              "      fill: #174EA6;\n",
              "    }\n",
              "\n",
              "    [theme=dark] .colab-df-convert {\n",
              "      background-color: #3B4455;\n",
              "      fill: #D2E3FC;\n",
              "    }\n",
              "\n",
              "    [theme=dark] .colab-df-convert:hover {\n",
              "      background-color: #434B5C;\n",
              "      box-shadow: 0px 1px 3px 1px rgba(0, 0, 0, 0.15);\n",
              "      filter: drop-shadow(0px 1px 2px rgba(0, 0, 0, 0.3));\n",
              "      fill: #FFFFFF;\n",
              "    }\n",
              "  </style>\n",
              "\n",
              "      <script>\n",
              "        const buttonEl =\n",
              "          document.querySelector('#df-48621a15-1e77-4dcc-903c-3aedc16c7fe5 button.colab-df-convert');\n",
              "        buttonEl.style.display =\n",
              "          google.colab.kernel.accessAllowed ? 'block' : 'none';\n",
              "\n",
              "        async function convertToInteractive(key) {\n",
              "          const element = document.querySelector('#df-48621a15-1e77-4dcc-903c-3aedc16c7fe5');\n",
              "          const dataTable =\n",
              "            await google.colab.kernel.invokeFunction('convertToInteractive',\n",
              "                                                     [key], {});\n",
              "          if (!dataTable) return;\n",
              "\n",
              "          const docLinkHtml = 'Like what you see? Visit the ' +\n",
              "            '<a target=\"_blank\" href=https://colab.research.google.com/notebooks/data_table.ipynb>data table notebook</a>'\n",
              "            + ' to learn more about interactive tables.';\n",
              "          element.innerHTML = '';\n",
              "          dataTable['output_type'] = 'display_data';\n",
              "          await google.colab.output.renderOutput(dataTable, element);\n",
              "          const docLink = document.createElement('div');\n",
              "          docLink.innerHTML = docLinkHtml;\n",
              "          element.appendChild(docLink);\n",
              "        }\n",
              "      </script>\n",
              "    </div>\n",
              "  </div>\n",
              "  "
            ]
          },
          "metadata": {},
          "execution_count": 8
        }
      ]
    },
    {
      "cell_type": "code",
      "source": [
        "'''\n",
        "Checkpoint:\n",
        "- params\n",
        "svd = SVD(lr=0.0005, reg=0.05, n_epochs=500, n_factors=50, early_stopping=True,\n",
        "           shuffle=False, min_rating=1, max_rating=10, min_delta=0.0001)\n",
        "\n",
        "- result\n",
        "Training took 47 min and 49 sec\n",
        "Test MAE: 0.851\n",
        "Test RMSE: 1.148\n",
        "'''"
      ],
      "metadata": {
        "id": "Z_ue8agnkhaJ",
        "colab": {
          "base_uri": "https://localhost:8080/",
          "height": 53
        },
        "outputId": "163e5d30-74fc-41de-dcff-557f260dd769"
      },
      "execution_count": 9,
      "outputs": [
        {
          "output_type": "execute_result",
          "data": {
            "text/plain": [
              "'\\nCheckpoint:\\n- params\\nsvd = SVD(lr=0.0005, reg=0.05, n_epochs=500, n_factors=50, early_stopping=True,\\n           shuffle=False, min_rating=1, max_rating=10, min_delta=0.0001)\\n\\n- result\\nTraining took 47 min and 49 sec\\nTest MAE: 0.851\\nTest RMSE: 1.148\\n'"
            ],
            "application/vnd.google.colaboratory.intrinsic+json": {
              "type": "string"
            }
          },
          "metadata": {},
          "execution_count": 9
        }
      ]
    },
    {
      "cell_type": "code",
      "source": [
        "plt.plot(history['epoch'], history['l2-regularization loss'])\n",
        "plt.xlabel(\"epochs\")\n",
        "plt.ylabel(\"loss\")"
      ],
      "metadata": {
        "colab": {
          "base_uri": "https://localhost:8080/",
          "height": 307
        },
        "id": "gzzBthBVHC9P",
        "outputId": "15d2444f-f9d0-40c6-dcd8-09f7ec4d053a"
      },
      "execution_count": null,
      "outputs": [
        {
          "output_type": "execute_result",
          "data": {
            "text/plain": [
              "Text(0, 0.5, 'loss')"
            ]
          },
          "metadata": {},
          "execution_count": 140
        },
        {
          "output_type": "display_data",
          "data": {
            "text/plain": [
              "<Figure size 432x288 with 1 Axes>"
            ],
            "image/png": "[encoded data removed]"
          },
          "metadata": {
            "needs_background": "light"
          }
        }
      ]
    },
    {
      "cell_type": "code",
      "source": [
        "plt.plot(history['epoch'], history['train-mse'], label='train')\n",
        "plt.plot(history['epoch'], history['val-mse'], label='val')\n",
        "plt.xlabel(\"epochs\")\n",
        "plt.ylabel(\"mse loss\")\n",
        "plt.legend()"
      ],
      "metadata": {
        "colab": {
          "base_uri": "https://localhost:8080/",
          "height": 296
        },
        "id": "fp07-OxrVXmN",
        "outputId": "baa6ca6a-6c94-4aac-bd5c-c3cc6d99ffa6"
      },
      "execution_count": null,
      "outputs": [
        {
          "output_type": "execute_result",
          "data": {
            "text/plain": [
              "<matplotlib.legend.Legend at 0x7f6be0099e20>"
            ]
          },
          "metadata": {},
          "execution_count": 141
        },
        {
          "output_type": "display_data",
          "data": {
            "text/plain": [
              "<Figure size 432x288 with 1 Axes>"
            ],
            "image/png": "[encoded data removed]"
          },
          "metadata": {
            "needs_background": "light"
          }
        }
      ]
    },
    {
      "cell_type": "markdown",
      "source": [
        "# IV. Thống kê kết quả"
      ],
      "metadata": {
        "id": "W1F_Tfafdp7i"
      }
    },
    {
      "cell_type": "code",
      "source": [
        "ground_truth = save_df['rating'].values\n",
        "pred_raw = save_df['predicted'].values"
      ],
      "metadata": {
        "id": "4_xvZ3Ndd27M"
      },
      "execution_count": 13,
      "outputs": []
    },
    {
      "cell_type": "markdown",
      "source": [
        "## Với số điểm dự đoán thô"
      ],
      "metadata": {
        "id": "GV2I40-hdzVb"
      }
    },
    {
      "cell_type": "code",
      "source": [
        "mse = mean_squared_error(ground_truth, pred_raw)\n",
        "rmse = np.sqrt(mse)\n",
        "mae = mean_absolute_error(ground_truth, pred_raw)\n",
        "mape = mean_absolute_percentage_error(ground_truth, pred_raw)\n",
        "r2 = r2_score(ground_truth, pred_raw)\n",
        "\n",
        "print(f'Result MAE  : {mae:.3f}')\n",
        "print(f'Result MSE  : {mse:.3f}')\n",
        "print(f'Result RMSE : {rmse:.3f}')\n",
        "print(f'Result MAPE : {mape:.3f}')\n",
        "print(f'Result R2   : {r2:.3f}')"
      ],
      "metadata": {
        "colab": {
          "base_uri": "https://localhost:8080/"
        },
        "id": "7JDmf6WbdkmI",
        "outputId": "19d6c68c-6511-4af1-c7fd-8a48e26291ca"
      },
      "execution_count": 20,
      "outputs": [
        {
          "output_type": "stream",
          "name": "stdout",
          "text": [
            "Result MAE  : 0.851\n",
            "Result MSE  : 1.319\n",
            "Result RMSE : 1.148\n",
            "Result MAPE : 0.147\n",
            "Result R2   : 0.546\n"
          ]
        }
      ]
    },
    {
      "cell_type": "code",
      "source": [
        "print(f'''\n",
        "Ground truth: Mean score: {ground_truth.mean()}\n",
        "              Standard deviation: {ground_truth.std()}\n",
        "''')\n",
        "\n",
        "print(f'''\n",
        "Predicted   : Mean score: {pred_raw.mean()}\n",
        "              Standard deviation: {pred_raw.std()}\n",
        "''')"
      ],
      "metadata": {
        "colab": {
          "base_uri": "https://localhost:8080/"
        },
        "id": "uWqCJ-DUfwD5",
        "outputId": "a8ed5e09-e49b-421c-cef1-154778e7fb45"
      },
      "execution_count": 25,
      "outputs": [
        {
          "output_type": "stream",
          "name": "stdout",
          "text": [
            "\n",
            "Ground truth: Mean score: 7.590891378978927\n",
            "              Standard deviation: 1.704881327458936\n",
            "\n",
            "\n",
            "Predicted   : Mean score: 7.585444349256386\n",
            "              Standard deviation: 1.2405114624451021\n",
            "\n"
          ]
        }
      ]
    },
    {
      "cell_type": "markdown",
      "source": [
        "## Chuẩn hóa số điểm dự đoán"
      ],
      "metadata": {
        "id": "pLgvwcdFaiAj"
      }
    },
    {
      "cell_type": "code",
      "source": [
        "pred_normalized = normalize(pred_raw, 1, 10)"
      ],
      "metadata": {
        "id": "o15wZcXZaQUQ"
      },
      "execution_count": 39,
      "outputs": []
    },
    {
      "cell_type": "code",
      "source": [
        "mse = mean_squared_error(ground_truth, pred_normalized)\n",
        "rmse = np.sqrt(mse)\n",
        "mae = mean_absolute_error(ground_truth, pred_normalized)\n",
        "mape = mean_absolute_percentage_error(ground_truth, pred_normalized)\n",
        "r2 = r2_score(ground_truth, pred_normalized)\n",
        "\n",
        "print(f'Result MAE  : {mae:.3f}')\n",
        "print(f'Result MSE  : {mse:.3f}')\n",
        "print(f'Result RMSE : {rmse:.3f}')\n",
        "print(f'Result MAPE : {mape:.3f}')\n",
        "print(f'Result R2   : {r2:.3f}')"
      ],
      "metadata": {
        "colab": {
          "base_uri": "https://localhost:8080/"
        },
        "id": "zN5b1vMEaq2N",
        "outputId": "1f46598c-93b7-4086-f7a0-8510b88647c2"
      },
      "execution_count": 21,
      "outputs": [
        {
          "output_type": "stream",
          "name": "stdout",
          "text": [
            "Result MAE  : 0.815\n",
            "Result MSE  : 1.401\n",
            "Result RMSE : 1.184\n",
            "Result MAPE : 0.142\n",
            "Result R2   : 0.518\n"
          ]
        }
      ]
    },
    {
      "cell_type": "code",
      "source": [
        "print(f'''\n",
        "Ground truth: Mean score: {ground_truth.mean()}\n",
        "              Standard deviation: {ground_truth.std()}\n",
        "''')\n",
        "\n",
        "print(f'''\n",
        "Predicted   : Mean score: {pred_normalized.mean()}\n",
        "              Standard deviation: {pred_normalized.std()}\n",
        "''')"
      ],
      "metadata": {
        "colab": {
          "base_uri": "https://localhost:8080/"
        },
        "id": "7bGINHuphImW",
        "outputId": "1f56de60-d9c7-4710-dace-4639c0cfd931"
      },
      "execution_count": 26,
      "outputs": [
        {
          "output_type": "stream",
          "name": "stdout",
          "text": [
            "\n",
            "Ground truth: Mean score: 7.590891378978927\n",
            "              Standard deviation: 1.704881327458936\n",
            "\n",
            "\n",
            "Predicted   : Mean score: 7.587000842819034\n",
            "              Standard deviation: 1.2763989707698338\n",
            "\n"
          ]
        }
      ]
    },
    {
      "cell_type": "code",
      "source": [
        "pred_normalized[np.where(ground_truth == 1)[0]]"
      ],
      "metadata": {
        "colab": {
          "base_uri": "https://localhost:8080/"
        },
        "id": "LD7raojoiixs",
        "outputId": "d6fc3f2d-e05c-4fe7-8437-f38b4437a3bf"
      },
      "execution_count": 34,
      "outputs": [
        {
          "output_type": "execute_result",
          "data": {
            "text/plain": [
              "array([3., 8., 9., ..., 5., 7., 6.])"
            ]
          },
          "metadata": {},
          "execution_count": 34
        }
      ]
    },
    {
      "cell_type": "code",
      "source": [
        "def get_acc(y_true, y_pred, delta = 0):\n",
        "  N = len(y_true)\n",
        "  cnt = 0\n",
        "  for i in range(N):\n",
        "    if np.abs(y_true[i] - y_pred[i]) <= delta:\n",
        "      cnt += 1\n",
        "  return cnt/N\n",
        "\n",
        "def get_mae_by_score(y_true, y_pred):\n",
        "  data = []\n",
        "  for i in range(1, 11):\n",
        "    indices = np.where(y_true == i)\n",
        "    temp = y_true[indices] - y_pred[indices]\n",
        "    data.append((i, np.mean(np.abs(temp))))\n",
        "  return data\n"
      ],
      "metadata": {
        "id": "OnGFesNghj_8"
      },
      "execution_count": 41,
      "outputs": []
    },
    {
      "cell_type": "code",
      "source": [
        "for d in range(3):\n",
        "  print(f'diff: {d}, accuracy: {round(get_acc(ground_truth, pred_normalized, d)*100, 2)}%')"
      ],
      "metadata": {
        "colab": {
          "base_uri": "https://localhost:8080/"
        },
        "id": "mrnu0z10jpAo",
        "outputId": "0bc23695-7d2e-4e44-d52a-f479a40db259"
      },
      "execution_count": 37,
      "outputs": [
        {
          "output_type": "stream",
          "name": "stdout",
          "text": [
            "diff: 0, accuracy: 39.6%\n",
            "diff: 1, accuracy: 84.35%\n",
            "diff: 2, accuracy: 96.26%\n"
          ]
        }
      ]
    },
    {
      "cell_type": "code",
      "source": [
        "data = get_mae_by_score(ground_truth, pred_normalized)\n",
        "print('Score \\t MAE')\n",
        "for (score, mae) in data:\n",
        "  print(f\"{score: 2} \\t {round(mae, 3)}\")"
      ],
      "metadata": {
        "colab": {
          "base_uri": "https://localhost:8080/"
        },
        "id": "s77sQa_Qk1vX",
        "outputId": "5900af33-e650-4fb6-e367-219010d7410f"
      },
      "execution_count": 42,
      "outputs": [
        {
          "output_type": "stream",
          "name": "stdout",
          "text": [
            "Score \t MAE\n",
            " 1 \t 3.388\n",
            " 2 \t 2.803\n",
            " 3 \t 2.187\n",
            " 4 \t 1.762\n",
            " 5 \t 1.285\n",
            " 6 \t 0.892\n",
            " 7 \t 0.609\n",
            " 8 \t 0.517\n",
            " 9 \t 0.736\n",
            " 10 \t 1.07\n"
          ]
        }
      ]
    },
    {
      "cell_type": "code",
      "source": [
        "def plot_score(y_true, y_pred, size=500):\n",
        "  plt.figure(figsize=(18, 6))\n",
        "  indices = np.arange(size)\n",
        "  plt.plot(indices, y_true[:size], label='ground_truth')\n",
        "  plt.plot(indices, y_pred[:size], label='predicted')\n",
        "\n",
        "  plt.legend()\n",
        "  plt.show()\n"
      ],
      "metadata": {
        "id": "hnY1TtSmRCOl"
      },
      "execution_count": 43,
      "outputs": []
    },
    {
      "cell_type": "code",
      "source": [
        "plot_score(ground_truth, pred_normalized)\n"
      ],
      "metadata": {
        "id": "uj_Gn-nyRCH4",
        "colab": {
          "base_uri": "https://localhost:8080/",
          "height": 374
        },
        "outputId": "530f75a3-7a4a-4ba0-8b56-427c2c38fdb5"
      },
      "execution_count": 44,
      "outputs": [
        {
          "output_type": "display_data",
          "data": {
            "text/plain": [
              "<Figure size 1296x432 with 1 Axes>"
            ],
            "image/png": "[encoded data removed]"
          },
          "metadata": {
            "needs_background": "light"
          }
        }
      ]
    },
    {
      "cell_type": "markdown",
      "source": [
        "___"
      ],
      "metadata": {
        "id": "R_ZlVLJ5QL3G"
      }
    }
  ]
}